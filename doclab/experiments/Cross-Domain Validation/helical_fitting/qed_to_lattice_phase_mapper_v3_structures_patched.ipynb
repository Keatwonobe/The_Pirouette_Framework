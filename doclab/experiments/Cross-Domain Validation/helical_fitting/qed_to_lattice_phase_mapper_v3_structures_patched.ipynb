{
 "cells": [
  {
   "cell_type": "markdown",
   "id": "e9d56a1d",
   "metadata": {},
   "source": [
    "# QED→Lattice **Phase Mapper v3 — Structure Hunt (Patched)**"
   ]
  },
  {
   "cell_type": "markdown",
   "id": "76ad71ef",
   "metadata": {},
   "source": [
    "\n",
    "**What this notebook does**\n",
    "- One-normalization to match **α(M_Z)** exactly (within numeric tolerance)\n",
    "- Scans **phase φ** and **phase offsets (δ₂, δ₃)** to find **knots/ridges** where triple-closure approaches\n",
    "- Adds **torsion** between U(1) and SU(3) stiffnesses to unlock a non-degenerate helix\n",
    "- Maps **loss surfaces** and exports summaries/plots\n",
    "\n",
    "**Outputs** (written next to this notebook):\n",
    "- `v3_phase_scan_summary.json`  — best φ and loss (1D scan)\n",
    "- `v3_knot_d2_d3.json`          — best (δ₂, δ₃) and loss\n",
    "- `v3_best_phi_r32.json`        — best (φ, r₃₂) and loss\n",
    "- Plots: `v3_residuals_vs_phi.png`, `v3_lossmap_d2_d3.png`, `v3_lossmap_phi_r32.png`, braids.\n"
   ]
  },
  {
   "cell_type": "code",
   "execution_count": 1,
   "id": "8bf6dc62",
   "metadata": {},
   "outputs": [
    {
     "ename": "",
     "evalue": "",
     "output_type": "error",
     "traceback": [
      "\u001b[1;31mThe Kernel crashed while executing code in the current cell or a previous cell. \n",
      "\u001b[1;31mPlease review the code in the cell(s) to identify a possible cause of the failure. \n",
      "\u001b[1;31mClick <a href='https://aka.ms/vscodeJupyterKernelCrash'>here</a> for more info. \n",
      "\u001b[1;31mView Jupyter <a href='command:jupyter.viewOutput'>log</a> for further details."
     ]
    }
   ],
   "source": [
    "\n",
    "# --- Cell 1: Imports & constants ---\n",
    "import math, json, itertools\n",
    "import numpy as np\n",
    "import matplotlib.pyplot as plt\n",
    "from pathlib import Path\n",
    "\n",
    "# PDG targets\n",
    "PDG_alpha_MZ    = 1/127.955\n",
    "PDG_sin2W_MZ    = 0.23122\n",
    "PDG_alpha_s_MZ  = 0.1179\n",
    "\n",
    "# Scales & constants\n",
    "MZ_GEV = 91.1876\n",
    "HBAR   = 6.582119569e-22  # MeV·s\n",
    "C      = 299792458.0      # m/s\n",
    "HBARC  = 0.1973269804     # GeV·fm\n",
    "\n",
    "# One-loop beta coefficients (MSbar, nf≈5 near MZ)\n",
    "b1, b2, b3 = 41/10, -19/6, -7\n",
    "\n",
    "# Bridge inputs (edit if desired)\n",
    "omega_c = 1e23   # Hz\n",
    "m_Gamma = 17.0   # MeV\n",
    "chi      = 1.0   # dimensionless\n",
    "\n",
    "# Derived bridge scales\n",
    "mu_c_MeV = HBAR * omega_c\n",
    "MU_C_GEV = mu_c_MeV / 1e3\n",
    "xi_Gamma = (C / max(omega_c, 1e-30)) * (chi ** (-0.5))\n",
    "\n",
    "outdir = Path(__file__).parent if \"__file__\" in globals() else Path.cwd()\n",
    "print(\"Outputs will be saved in:\", outdir)\n",
    "print(\"MU_C_GEV, xi_Gamma[m]:\", MU_C_GEV, xi_Gamma)\n"
   ]
  },
  {
   "cell_type": "code",
   "execution_count": 2,
   "id": "96aa58dc",
   "metadata": {},
   "outputs": [],
   "source": [
    "\n",
    "# --- Cell 2: Exponents & stiffness dictionary ---\n",
    "EXPO = {\n",
    "  \"U1\":  dict(alpha=+0.00, beta=-1.0, gamma=+1/3, p=1.0),\n",
    "  \"SU2\": dict(alpha=+0.00, beta=-1.0, gamma=+1/3, p=1.0),\n",
    "  \"SU3\": dict(alpha=-0.05, beta=-1.0, gamma=+1/3, p=1.0),\n",
    "}\n",
    "\n",
    "def hat_Ki(mu_c_GeV, xi_Gamma, chi, h_i, expo):\n",
    "    xi_term = (xi_Gamma if xi_Gamma != 0 else 1.0)\n",
    "    return (h_i**expo[\"p\"]) * ( (xi_term/max(1e-30, 1.0))**expo[\"beta\"] ) * (chi**expo[\"gamma\"]) * (max(mu_c_GeV,1e-12)**expo[\"alpha\"])\n",
    "\n",
    "def make_barrier_K(mu_c_GeV, xi_Gamma, chi, h_tuple, N=1.0):\n",
    "    h1,h2,h3 = h_tuple\n",
    "    K1 = N * hat_Ki(mu_c_GeV, xi_Gamma, chi, h1, EXPO[\"U1\"])\n",
    "    K2 = N * hat_Ki(mu_c_GeV, xi_Gamma, chi, h2, EXPO[\"SU2\"])\n",
    "    K3 = N * hat_Ki(mu_c_GeV, xi_Gamma, chi, h3, EXPO[\"SU3\"])\n",
    "    return K1,K2,K3\n"
   ]
  },
  {
   "cell_type": "code",
   "execution_count": 3,
   "id": "721f288b",
   "metadata": {},
   "outputs": [],
   "source": [
    "\n",
    "# --- Cell 3 (PATCHED): Safe one-loop runners & normalization ---\n",
    "def run_alpha_to_scale(alpha_mu0, beta_coeff, mu0, mu):\n",
    "    alpha_mu0 = float(alpha_mu0)\n",
    "    beta_coeff = float(beta_coeff)\n",
    "    mu0 = float(mu0); mu = float(mu)\n",
    "    if alpha_mu0 <= 0 or mu0 <= 0 or mu <= 0:\n",
    "        return float(\"nan\")\n",
    "    denom = (1.0/alpha_mu0) - (beta_coeff/(2.0*math.pi)) * math.log(mu/mu0)\n",
    "    if not math.isfinite(denom) or abs(denom) < 1e-14:\n",
    "        return float(\"nan\")\n",
    "    return 1.0/denom\n",
    "\n",
    "def run_to_MZ_pair(alpha1_mu, alpha2_mu, MU0_GEV, MZ=MZ_GEV):\n",
    "    a1_MZ = run_alpha_to_scale(alpha1_mu, b1, MU0_GEV, MZ)\n",
    "    a2_MZ = run_alpha_to_scale(alpha2_mu, b2, MU0_GEV, MZ)\n",
    "    return a1_MZ, a2_MZ\n",
    "\n",
    "def normalize_once_to_alpha_em(K1, K2, MU0_GEV, target_alpha_em=PDG_alpha_MZ):\n",
    "    K2 = abs(float(K2))  # SU(2) positive on broken sheet\n",
    "    K1 = float(K1)\n",
    "\n",
    "    def alpha_em_from_scale(s):\n",
    "        a1_mu0 = (5.0/3.0) / (4*math.pi*(s*K1))\n",
    "        a2_mu0 = 1.0        / (4*math.pi*(s*K2))\n",
    "        A1_MZ, A2_MZ = run_to_MZ_pair(a1_mu0, a2_mu0, MU0_GEV, MZ_GEV)\n",
    "        if not (math.isfinite(A1_MZ) and math.isfinite(A2_MZ) and A1_MZ>0 and A2_MZ>0):\n",
    "            return float(\"inf\")\n",
    "        return (A1_MZ*A2_MZ)/(A1_MZ + A2_MZ)\n",
    "\n",
    "    lo, hi = -36.0, +36.0\n",
    "    flo = alpha_em_from_scale(10**lo)\n",
    "    fhi = alpha_em_from_scale(10**hi)\n",
    "    for _ in range(16):\n",
    "        if flo > target_alpha_em or not math.isfinite(flo):\n",
    "            lo -= 2.0; flo = alpha_em_from_scale(10**lo)\n",
    "        if fhi < target_alpha_em or not math.isfinite(fhi):\n",
    "            hi += 2.0; fhi = alpha_em_from_scale(10**hi)\n",
    "\n",
    "    mid = 0.0\n",
    "    for _ in range(120):\n",
    "        mid = 0.5*(lo+hi)\n",
    "        fmid = alpha_em_from_scale(10**mid)\n",
    "        if not math.isfinite(fmid):\n",
    "            hi = 0.75*hi + 0.25*lo\n",
    "            continue\n",
    "        if fmid < target_alpha_em:\n",
    "            hi = mid\n",
    "        else:\n",
    "            lo = mid\n",
    "    return 10**(0.5*(lo+hi))\n"
   ]
  },
  {
   "cell_type": "code",
   "execution_count": 4,
   "id": "e40dad55",
   "metadata": {},
   "outputs": [],
   "source": [
    "\n",
    "# --- Cell 4: Lattice observable + full pipeline ---\n",
    "C_SIGMA = None\n",
    "\n",
    "def predict_lattice_observables(K3, xi_Gamma, c_sigma=None, K3_ref=None):\n",
    "    global C_SIGMA, HBARC\n",
    "    xi_fm = xi_Gamma / 1e-15\n",
    "    if xi_fm <= 0: xi_fm = 1e-6\n",
    "    cS = c_sigma if c_sigma is not None else C_SIGMA\n",
    "    if cS is None: raise RuntimeError(\"C_SIGMA not set; run calibration.\")\n",
    "    sigma_GeV2 = cS * (K3 / max(xi_fm**2, 1e-30)) * (HBARC**2)\n",
    "    if K3_ref is None: K3_ref = K3\n",
    "    a0 = 0.085\n",
    "    a_fm = a0 * ((K3_ref + 1e-12) / (K3 + 1e-12))**0.10\n",
    "    a_fm = max(0.05, min(0.14, a_fm))\n",
    "    return a_fm, sigma_GeV2\n",
    "\n",
    "def run_full_pipeline(K1, K2, K3, MU0_GEV):\n",
    "    a1_c = (5.0/3.0) / (4*math.pi*K1)\n",
    "    a2_c = 1.0        / (4*math.pi*K2)\n",
    "    a3_c = 1.0        / (4*math.pi*K3)\n",
    "    a1_MZ = run_alpha_to_scale(a1_c, b1, MU0_GEV, MZ_GEV)\n",
    "    a2_MZ = run_alpha_to_scale(a2_c, b2, MU0_GEV, MZ_GEV)\n",
    "    a3_MZ = run_alpha_to_scale(a3_c, b3, MU0_GEV, MZ_GEV)\n",
    "    alpha_em_MZ = (a1_MZ * a2_MZ) / (a1_MZ + a2_MZ)\n",
    "    sin2W_MZ    = a1_MZ / (a1_MZ + a2_MZ)\n",
    "    alpha_s_MZ  = a3_MZ\n",
    "    a_fm, sigma_GeV2 = predict_lattice_observables(K3, xi_Gamma, K3_ref=K3)\n",
    "    sqrt_sigma = math.sqrt(abs(sigma_GeV2))\n",
    "    return {\"alpha_em\": alpha_em_MZ, \"sin2W\": sin2W_MZ, \"alpha_s\": alpha_s_MZ,\n",
    "            \"a_fm\": a_fm, \"sqrt_sigma\": sqrt_sigma}\n"
   ]
  },
  {
   "cell_type": "code",
   "execution_count": 5,
   "id": "83c23142",
   "metadata": {},
   "outputs": [
    {
     "name": "stdout",
     "output_type": "stream",
     "text": [
      "C_SIGMA calibrated: 1.9359999999999997e+29\n"
     ]
    }
   ],
   "source": [
    "\n",
    "# --- Cell 5: Calibrate C_SIGMA on broken (physical) sheet ---\n",
    "K1_b, K2_b, K3_b = make_barrier_K(MU_C_GEV, xi_Gamma, chi, (1.0,2.0,3.0), N=1.0)\n",
    "S_star = normalize_once_to_alpha_em(K1_b, abs(K2_b), MU_C_GEV, PDG_alpha_MZ)\n",
    "K1_b, K2_b, K3_b = (S_star*K1_b, S_star*abs(K2_b), S_star*K3_b)\n",
    "\n",
    "xi_fm_b = xi_Gamma / 1e-15\n",
    "sigma_GeV2_tmp = (K3_b / max(xi_fm_b**2, 1e-30)) * (HBARC**2)\n",
    "target = 0.44  # GeV\n",
    "C_SIGMA = (target**2) / max(sigma_GeV2_tmp, 1e-30)\n",
    "print(\"C_SIGMA calibrated:\", C_SIGMA)\n"
   ]
  },
  {
   "cell_type": "code",
   "execution_count": 6,
   "id": "0cfc0f54",
   "metadata": {},
   "outputs": [
    {
     "name": "stdout",
     "output_type": "stream",
     "text": [
      "r12, r32, eps, nph, dph, tau\n"
     ]
    },
    {
     "data": {
      "text/plain": [
       "(3.3333333333333335,\n",
       " 0.125,\n",
       " {'U1': 0.12, 'SU2': 0.12, 'SU3': 0.18},\n",
       " {'U1': 1, 'SU2': 2, 'SU3': 3},\n",
       " {'U1': 0.0, 'SU2': 1.0471975511965976, 'SU3': 2.0943951023931953},\n",
       " 0.03)"
      ]
     },
     "execution_count": 6,
     "metadata": {},
     "output_type": "execute_result"
    }
   ],
   "source": [
    "\n",
    "# --- Cell 6: Parameters (STRUCTURE HUNT) ---\n",
    "r12 = 10/3       # U(1):SU(2)\n",
    "r32 = 1/8        # SU(3):SU(2) softness\n",
    "eps = {\"U1\":0.12, \"SU2\":0.12, \"SU3\":0.18}\n",
    "nph = {\"U1\":1, \"SU2\":2, \"SU3\":3}\n",
    "dph = {\"U1\":0.0, \"SU2\": math.pi/3, \"SU3\": 2*math.pi/3}\n",
    "tau = 0.03   # torsion K1<->K3\n",
    "\n",
    "print(\"r12, r32, eps, nph, dph, tau\")\n",
    "r12, r32, eps, nph, dph, tau\n"
   ]
  },
  {
   "cell_type": "code",
   "execution_count": 7,
   "id": "f95ca97f",
   "metadata": {},
   "outputs": [
    {
     "name": "stdout",
     "output_type": "stream",
     "text": [
      "Base K: 1.1118803173272824e-53 1.000692285594554e-54 1.2508653569931926e-55\n"
     ]
    }
   ],
   "source": [
    "\n",
    "# --- Cell 7: Base K0 (broken sheet), torsion, helical modulation ---\n",
    "def base_K0(sign_SU2=+1.0):\n",
    "    K1_hat, K2_hat, K3_hat = make_barrier_K(MU_C_GEV, xi_Gamma, chi, (1.0,1.0,1.0), N=1.0)\n",
    "    K1_0 = K1_hat * r12\n",
    "    K2_0 = K2_hat / max(r12,1e-12)\n",
    "    K3_0 = (K2_0 * r32)\n",
    "    K2_0 = sign_SU2 * K2_0\n",
    "    S_star0 = normalize_once_to_alpha_em(K1_0, abs(K2_0), MU_C_GEV, PDG_alpha_MZ)\n",
    "    return S_star0*K1_0, S_star0*abs(K2_0), S_star0*K3_0\n",
    "\n",
    "def apply_torsion(K1,K3, tau):\n",
    "    if tau==0: return K1,K3\n",
    "    return (K1 + tau*K3, K3 + tau*K1)\n",
    "\n",
    "def K_phi(K1_0, K2_0, K3_0, phi, dph_local=None):\n",
    "    if dph_local is None: dph_local = dph\n",
    "    K1 = K1_0 * (1 + eps[\"U1\"] * math.sin(nph[\"U1\"]*phi + dph_local[\"U1\"]))\n",
    "    K2 = K2_0 * (1 + eps[\"SU2\"]* math.sin(nph[\"SU2\"]*phi + dph_local[\"SU2\"]))\n",
    "    K3 = K3_0 * (1 + eps[\"SU3\"]* math.sin(nph[\"SU3\"]*phi + dph_local[\"SU3\"]))\n",
    "    K1, K3 = apply_torsion(K1, K3, tau)  # before normalization\n",
    "    S = normalize_once_to_alpha_em(K1, K2, MU_C_GEV, PDG_alpha_MZ)\n",
    "    return S*K1, S*K2, S*K3\n",
    "\n",
    "K1_0, K2_0, K3_0 = base_K0(sign_SU2=+1.0)\n",
    "print(\"Base K:\", K1_0, K2_0, K3_0)\n"
   ]
  },
  {
   "cell_type": "code",
   "execution_count": 8,
   "id": "780240fb",
   "metadata": {},
   "outputs": [
    {
     "name": "stdout",
     "output_type": "stream",
     "text": [
      "Sanity pipeline: {'alpha_em': -0.9306377379592896, 'sin2W': -3.3928571428571423, 'alpha_s': 0.12408503172790528, 'a_fm': 0.085, 'sqrt_sigma': 1.0242918710435599e-14}\n"
     ]
    }
   ],
   "source": [
    "\n",
    "# --- Cell 8: Sanity check (pre-scan) ---\n",
    "K1t, K2t, K3t = K1_0, K2_0, K3_0\n",
    "r_test = run_full_pipeline(K1t, K2t, K3t, MU_C_GEV)\n",
    "print(\"Sanity pipeline:\", r_test)\n",
    "assert all([math.isfinite(v) for v in r_test.values()]), \"Non-finite in pipeline.\"\n"
   ]
  },
  {
   "cell_type": "code",
   "execution_count": 9,
   "id": "eb134681",
   "metadata": {},
   "outputs": [
    {
     "name": "stdout",
     "output_type": "stream",
     "text": [
      "best_phi, best_loss: 0.0 4.070262174585047\n"
     ]
    },
    {
     "ename": "",
     "evalue": "",
     "output_type": "error",
     "traceback": [
      "\u001b[1;31mThe Kernel crashed while executing code in the current cell or a previous cell. \n",
      "\u001b[1;31mPlease review the code in the cell(s) to identify a possible cause of the failure. \n",
      "\u001b[1;31mClick <a href='https://aka.ms/vscodeJupyterKernelCrash'>here</a> for more info. \n",
      "\u001b[1;31mView Jupyter <a href='command:jupyter.viewOutput'>log</a> for further details."
     ]
    }
   ],
   "source": [
    "\n",
    "# --- Cell 9: 1D φ scan ---\n",
    "Nphi = 720\n",
    "phis = np.linspace(0, 2*np.pi, Nphi, endpoint=False)\n",
    "\n",
    "residuals = {\"sin2W\":[], \"alpha_s\":[], \"sqrt_sigma\":[], \"loss\": []}\n",
    "tracks    = {\"sin2W\":[], \"alpha_s\":[], \"sqrt_sigma\":[], \"alpha_em\":[]}\n",
    "for phi in phis:\n",
    "    K1,K2,K3 = K_phi(K1_0, K2_0, K3_0, phi)\n",
    "    r = run_full_pipeline(K1,K2,K3, MU_C_GEV)\n",
    "    e1 = abs(r[\"sin2W\"]-PDG_sin2W_MZ)\n",
    "    e2 = abs(r[\"alpha_s\"]-PDG_alpha_s_MZ)\n",
    "    e3 = abs(r[\"sqrt_sigma\"]-0.44)\n",
    "    residuals[\"sin2W\"].append(e1)\n",
    "    residuals[\"alpha_s\"].append(e2)\n",
    "    residuals[\"sqrt_sigma\"].append(e3)\n",
    "    residuals[\"loss\"].append(e1+e2+e3)\n",
    "    tracks[\"sin2W\"].append(r[\"sin2W\"])\n",
    "    tracks[\"alpha_s\"].append(r[\"alpha_s\"])\n",
    "    tracks[\"sqrt_sigma\"].append(r[\"sqrt_sigma\"])\n",
    "    tracks[\"alpha_em\"].append(r[\"alpha_em\"])\n",
    "\n",
    "best_idx = int(np.argmin(residuals[\"loss\"]))\n",
    "best_phi = float(phis[best_idx])\n",
    "best_loss = float(residuals[\"loss\"][best_idx])\n",
    "print(\"best_phi, best_loss:\", best_phi, best_loss)\n",
    "\n",
    "plt.figure()\n",
    "plt.plot(phis, residuals[\"sin2W\"], label=\"|Δ sin²θ_W|\")\n",
    "plt.plot(phis, residuals[\"alpha_s\"], label=\"|Δ α_s|\")\n",
    "plt.plot(phis, residuals[\"sqrt_sigma\"], label=\"|Δ √σ|\")\n",
    "plt.plot(phis, residuals[\"loss\"], label=\"total loss\", linewidth=2)\n",
    "plt.axvline(best_phi, linestyle=\"--\")\n",
    "plt.xlabel(\"φ (rad)\"); plt.ylabel(\"residual\"); plt.legend(); plt.tight_layout()\n",
    "plt.savefig(outdir/\"v3_residuals_vs_phi.png\", dpi=150); plt.close()\n",
    "\n",
    "plt.figure(); plt.plot(phis, tracks[\"sin2W\"]); plt.axhline(PDG_sin2W_MZ, linestyle=\"--\")\n",
    "plt.xlabel(\"φ (rad)\"); plt.ylabel(\"sin²θ_W\"); plt.tight_layout()\n",
    "plt.savefig(outdir/\"v3_track_sin2W_vs_phi.png\", dpi=150); plt.close()\n",
    "\n",
    "plt.figure(); plt.plot(phis, tracks[\"alpha_s\"]); plt.axhline(PDG_alpha_s_MZ, linestyle=\"--\")\n",
    "plt.xlabel(\"φ (rad)\"); plt.ylabel(\"α_s\"); plt.tight_layout()\n",
    "plt.savefig(outdir/\"v3_track_alpha_s_vs_phi.png\", dpi=150); plt.close()\n",
    "\n",
    "plt.figure(); plt.plot(phis, tracks[\"sqrt_sigma\"]); plt.axhline(0.44, linestyle=\"--\")\n",
    "plt.xlabel(\"φ (rad)\"); plt.ylabel(\"√σ (GeV)\"); plt.tight_layout()\n",
    "plt.savefig(outdir/\"v3_track_sigma_vs_phi.png\", dpi=150); plt.close()\n",
    "\n",
    "with open(outdir/\"v3_phase_scan_summary.json\",\"w\") as f:\n",
    "    json.dump({\"best_phi\":best_phi,\"best_loss\":best_loss}, f, indent=2)\n"
   ]
  },
  {
   "cell_type": "code",
   "execution_count": null,
   "id": "59083af9",
   "metadata": {},
   "outputs": [],
   "source": [
    "\n",
    "# --- Cell 10: 2D loss map over (δ2, δ3) ---\n",
    "N = 64  # grid size\n",
    "d2s = np.linspace(0, 2*np.pi, N, endpoint=False)\n",
    "d3s = np.linspace(0, 2*np.pi, N, endpoint=False)\n",
    "L = np.zeros((N,N), dtype=float)\n",
    "\n",
    "for i, d2 in enumerate(d2s):\n",
    "    for j, d3 in enumerate(d3s):\n",
    "        phis_sub = np.linspace(0, 2*np.pi, 180, endpoint=False)\n",
    "        best = 1e9\n",
    "        for phi in phis_sub:\n",
    "            K1,K2,K3 = K_phi(K1_0, K2_0, K3_0, phi, dph_local={\"U1\":dph[\"U1\"], \"SU2\":d2, \"SU3\":d3})\n",
    "            r = run_full_pipeline(K1,K2,K3, MU_C_GEV)\n",
    "            loss = (abs(r[\"sin2W\"]-PDG_sin2W_MZ)\n",
    "                   +abs(r[\"alpha_s\"]-PDG_alpha_s_MZ)\n",
    "                   +abs(r[\"sqrt_sigma\"]-0.44))\n",
    "            if loss < best: best = loss\n",
    "        L[i,j] = best\n",
    "\n",
    "plt.figure(figsize=(7,6))\n",
    "plt.imshow(L.T, origin=\"lower\", extent=[0,2*math.pi,0,2*math.pi], aspect=\"auto\")\n",
    "plt.colorbar(label=\"min loss over φ\")\n",
    "plt.xlabel(\"δ₂ (rad)\"); plt.ylabel(\"δ₃ (rad)\")\n",
    "plt.tight_layout()\n",
    "plt.savefig(outdir/\"v3_lossmap_d2_d3.png\", dpi=150); plt.close()\n",
    "\n",
    "min_idx = np.unravel_index(np.argmin(L), L.shape)\n",
    "knot_d2 = float(d2s[min_idx[0]]); knot_d3 = float(d3s[min_idx[1]])\n",
    "print(\"Knot at δ2, δ3 =\", knot_d2, knot_d3, \"with loss\", float(L[min_idx]))\n",
    "with open(outdir/\"v3_knot_d2_d3.json\",\"w\") as f:\n",
    "    json.dump({\"delta2\":knot_d2, \"delta3\":knot_d3, \"min_loss\":float(L[min_idx])}, f, indent=2)\n"
   ]
  },
  {
   "cell_type": "code",
   "execution_count": null,
   "id": "244aee78",
   "metadata": {},
   "outputs": [],
   "source": [
    "\n",
    "# --- Cell 11: 2D loss map over (φ, r32) ---\n",
    "r32_grid = np.array([1/12,1/10,1/8,1/7,1/6,1/5])\n",
    "Nphi = 180\n",
    "phis2 = np.linspace(0, 2*np.pi, Nphi, endpoint=False)\n",
    "\n",
    "M = np.zeros((len(r32_grid), Nphi), dtype=float)\n",
    "for i, r32_val in enumerate(r32_grid):\n",
    "    K1_hat, K2_hat, K3_hat = make_barrier_K(MU_C_GEV, xi_Gamma, chi, (1.0,1.0,1.0), N=1.0)\n",
    "    K1_0b = K1_hat * r12\n",
    "    K2_0b = K2_hat / max(r12,1e-12)\n",
    "    K3_0b = (K2_0b * r32_val)\n",
    "    K2_0b = +1.0 * K2_0b  # broken sheet\n",
    "    S_star0b = normalize_once_to_alpha_em(K1_0b, abs(K2_0b), MU_C_GEV, PDG_alpha_MZ)\n",
    "    K1_0b, K2_0b, K3_0b = (S_star0b*K1_0b, S_star0b*abs(K2_0b), S_star0b*K3_0b)\n",
    "    for j, phi in enumerate(phis2):\n",
    "        K1,K2,K3 = K_phi(K1_0b, K2_0b, K3_0b, phi)\n",
    "        r = run_full_pipeline(K1,K2,K3, MU_C_GEV)\n",
    "        M[i,j] = (abs(r[\"sin2W\"]-PDG_sin2W_MZ)\n",
    "                 +abs(r[\"alpha_s\"]-PDG_alpha_s_MZ)\n",
    "                 +abs(r[\"sqrt_sigma\"]-0.44))\n",
    "\n",
    "plt.figure(figsize=(9,4))\n",
    "plt.imshow(M, origin=\"lower\", aspect=\"auto\",\n",
    "           extent=[0,2*math.pi,0,len(r32_grid)],\n",
    "           interpolation=\"nearest\")\n",
    "plt.yticks(np.arange(len(r32_grid))+0.5, [f\"{x:.3f}\" for x in r32_grid])\n",
    "plt.colorbar(label=\"loss\")\n",
    "plt.xlabel(\"φ (rad)\"); plt.ylabel(\"r32 = K3/K2 (pre-tilt)\")\n",
    "plt.tight_layout()\n",
    "plt.savefig(outdir/\"v3_lossmap_phi_r32.png\", dpi=150); plt.close()\n",
    "\n",
    "best_idx2 = np.unravel_index(np.argmin(M), M.shape)\n",
    "best_r32 = float(r32_grid[best_idx2[0]]); best_phi2 = float(phis2[best_idx2[1]])\n",
    "print(\"Best over (φ, r32):\", best_r32, best_phi2, \"with loss\", float(M[best_idx2]))\n",
    "with open(outdir/\"v3_best_phi_r32.json\",\"w\") as f:\n",
    "    json.dump({\"r32\":best_r32, \"phi\":best_phi2, \"min_loss\":float(M[best_idx2])}, f, indent=2)\n"
   ]
  },
  {
   "cell_type": "code",
   "execution_count": null,
   "id": "23bcbe25",
   "metadata": {},
   "outputs": [],
   "source": [
    "\n",
    "# --- Cell 12: Braid (Lissajous) views ---\n",
    "Nphi = len(tracks[\"alpha_s\"])\n",
    "Δs = np.array(residuals[\"sin2W\"])\n",
    "Δa = np.array(residuals[\"alpha_s\"])\n",
    "Δσ = np.array(residuals[\"sqrt_sigma\"])\n",
    "\n",
    "plt.figure(figsize=(5,5))\n",
    "plt.plot(Δs, Δa, lw=1)\n",
    "plt.xlabel(\"|Δ sin²θ_W|\"); plt.ylabel(\"|Δ α_s|\"); plt.title(\"Braid: EW vs QCD residuals\")\n",
    "plt.tight_layout()\n",
    "plt.savefig(outdir/\"v3_braid_sin2vsaS.png\", dpi=150); plt.close()\n",
    "\n",
    "plt.figure(figsize=(5,5))\n",
    "plt.plot(Δa, Δσ, lw=1)\n",
    "plt.xlabel(\"|Δ α_s|\"); plt.ylabel(\"|Δ √σ|\"); plt.title(\"Braid: QCD vs Lattice residuals\")\n",
    "plt.tight_layout()\n",
    "plt.savefig(outdir/\"v3_braid_aSvssigma.png\", dpi=150); plt.close()\n",
    "\n",
    "print(\"Saved braid plots.\")\n"
   ]
  }
 ],
 "metadata": {
  "kernelspec": {
   "display_name": "Python 3",
   "language": "python",
   "name": "python3"
  },
  "language_info": {
   "codemirror_mode": {
    "name": "ipython",
    "version": 3
   },
   "file_extension": ".py",
   "mimetype": "text/x-python",
   "name": "python",
   "nbconvert_exporter": "python",
   "pygments_lexer": "ipython3",
   "version": "3.11.6"
  }
 },
 "nbformat": 4,
 "nbformat_minor": 5
}
