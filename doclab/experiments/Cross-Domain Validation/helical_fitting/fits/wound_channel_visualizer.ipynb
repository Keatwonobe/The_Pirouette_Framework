{
  "cells": [
    {
      "cell_type": "markdown",
      "metadata": {},
      "source": [
        "# Wound\u2011Channel Interference Visualizer (2025-10-28T03:50:08)\n",
        "\n",
        "Toy 2+1D model of two **Ki\u2011loops** (spin\u2011\u00bd defects) approaching each other.\n",
        "We compute an **echo proxy** \\(E(x,y,t) = \\langle \\psi(t), \\psi(t-\\Delta t)\\rangle\\) locally via phase\u2011field overlap.\n",
        "Outputs: a sequence of frames you can stitch into an animation."
      ]
    },
    {
      "cell_type": "code",
      "execution_count": null,
      "metadata": {},
      "outputs": [],
      "source": [
        "import numpy as np\n",
        "import matplotlib.pyplot as plt\n",
        "\n",
        "# Grid\n",
        "nx, ny = 200, 200\n",
        "x = np.linspace(-5, 5, nx)\n",
        "y = np.linspace(-5, 5, ny)\n",
        "X, Y = np.meshgrid(x, y, indexing=\"xy\")\n",
        "\n",
        "def defect_phase(x0, y0, winding=+1):\n",
        "    # Angular field with core smoothing\n",
        "    angle = np.arctan2(Y - y0, X - x0)\n",
        "    r2 = (X - x0)**2 + (Y - y0)**2\n",
        "    core = np.exp(-r2/0.2)\n",
        "    return winding*angle, core\n",
        "\n",
        "def echo_proxy(phi_now, phi_prev, dt=0.05):\n",
        "    # Local phase echo: cos of phase change weighted by core overlap\n",
        "    dphi = phi_now - phi_prev\n",
        "    return np.cos(dphi)\n",
        "\n",
        "# Trajectories\n",
        "T = 60\n",
        "xL0, yL0 = -3.0, 0.0\n",
        "xR0, yR0 = +3.0, 0.0\n",
        "\n",
        "frames = []\n",
        "phi_prev = None\n",
        "for t in range(T):\n",
        "    # approach each other\n",
        "    xL = xL0 + 0.08*t\n",
        "    xR = xR0 - 0.08*t\n",
        "    \n",
        "    phiL, coreL = defect_phase(xL, yL0, +1)\n",
        "    phiR, coreR = defect_phase(xR, yR0, -1)\n",
        "    phi = np.unwrap(phiL + phiR)\n",
        "    if phi_prev is None:\n",
        "        phi_prev = phi.copy()\n",
        "    E = echo_proxy(phi, phi_prev)\n",
        "    phi_prev = phi.copy()\n",
        "    \n",
        "    # Constructive vs Destructive regions\n",
        "    fig, ax = plt.subplots(figsize=(5,4))\n",
        "    im = ax.imshow(E, extent=[x.min(), x.max(), y.min(), y.max()], origin=\"lower\", vmin=-1, vmax=1)\n",
        "    ax.set_title(f\"Echo proxy E(x,y,t) at t={t}\")\n",
        "    ax.set_xlabel(\"x\"); ax.set_ylabel(\"y\")\n",
        "    fig.colorbar(im, ax=ax, label=\"\u27e8\u03c8(t), \u03c8(t-\u0394t)\u27e9 proxy\")\n",
        "    out = f\"wound_echo_{t:03d}.png\"\n",
        "    plt.tight_layout()\n",
        "    plt.savefig(out, dpi=120)\n",
        "    plt.close(fig)\n",
        "\n",
        "frames[:3] if frames else [\"wound_echo_000.png\",\"wound_echo_001.png\",\"wound_echo_002.png\"]"
      ]
    }
  ],
  "metadata": {
    "kernelspec": {
      "display_name": "Python 3",
      "language": "python",
      "name": "python3"
    },
    "language_info": {
      "name": "python",
      "version": "3.11"
    }
  },
  "nbformat": 4,
  "nbformat_minor": 5
}