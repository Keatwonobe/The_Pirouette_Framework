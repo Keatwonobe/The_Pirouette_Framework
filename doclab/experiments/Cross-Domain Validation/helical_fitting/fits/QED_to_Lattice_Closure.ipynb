{
  "cells": [
    {
      "cell_type": "markdown",
      "metadata": {},
      "source": [
        "# QED-to-Lattice Closure Loop \u2014 Phase II Deliverable (2025-10-28T03:50:08)\n",
        "\n",
        "Objective: One deterministic pipeline (one normalization, no knob-turning) that:\n",
        "1. Takes **Bridge** outputs { \u03c9_c, m_\u0393, \u03c7 }.\n",
        "2. Computes stiffnesses **K\u2081, K\u2082, K\u2083** (U(1), SU(2), SU(3)).\n",
        "3. Runs 1\u2011loop (and optionally 2\u2011loop) RGEs down to **M_Z** to get **\u03b1(M_Z)**, **sin\u00b2\u03b8_W(M_Z)**, **\u03b1_s(M_Z)**.\n",
        "4. Predicts **lattice spacing** `a` and **string tension** `\u03c3` via **MATH\u2011YM\u2011003** mapping.\n",
        "5. Compares to **PDG** (couplings) and **FLAG/MILC** (a, \u03c3), without retuning.\n",
        "\n",
        "> This notebook is a scaffold with explicit computational steps. You can lock the mapping (one normalization) and press **Run All**."
      ]
    },
    {
      "cell_type": "code",
      "execution_count": null,
      "metadata": {},
      "outputs": [],
      "source": [
        "# Imports\n",
        "import numpy as np\n",
        "import pandas as pd\n",
        "from math import log, pi, sqrt\n",
        "\n",
        "# Constants (can be adjusted if you want a different input scale or reference values)\n",
        "MZ_GeV = 91.1876  # Z boson mass (GeV)\n",
        "\n",
        "# PDG-like targets at MZ (reference values for comparison)\n",
        "PDG_alpha_em_inv = 127.955  # alpha_em^-1(MZ)\n",
        "PDG_sin2_thetaW = 0.23122   # sin^2 theta_W(MZ)\n",
        "PDG_alpha_s = 0.1179        # alpha_s(MZ)\n",
        "\n",
        "targets = {\n",
        "    \"alpha_em_inv_MZ\": PDG_alpha_em_inv,\n",
        "    \"sin2_thetaW_MZ\": PDG_sin2_thetaW,\n",
        "    \"alpha_s_MZ\": PDG_alpha_s,\n",
        "}\n",
        "\n",
        "targets"
      ]
    },
    {
      "cell_type": "markdown",
      "metadata": {},
      "source": [
        "## Step 0 \u2014 Inputs from the Bridge\n",
        "\n",
        "> Provide **\u03c9_c [Hz]**, **m_\u0393 [MeV]**, **\u03c7 [dimensionless susceptibility]**.\n",
        "> Choose a **Bridge scale** \u039b_B (GeV) at which the stiffness dictionary is defined."
      ]
    },
    {
      "cell_type": "code",
      "execution_count": null,
      "metadata": {},
      "outputs": [],
      "source": [
        "# --- USER INPUTS (Bridge) ---\n",
        "omega_c = 1.0e23    # Hz\n",
        "m_Gamma_MeV = 17.0  # MeV\n",
        "chi = 0.85          # unitless\n",
        "\n",
        "# Bridge normalization scale (GeV) \u2014 where K_i are defined via the dictionary\n",
        "Lambda_B_GeV = 1000.0  # 1 TeV default; adjust if your Bridge prefers a different \u039b_B\n",
        "\n",
        "omega_c, m_Gamma_MeV, chi, Lambda_B_GeV"
      ]
    },
    {
      "cell_type": "markdown",
      "metadata": {},
      "source": [
        "## Step 1 \u2014 Stiffness dictionary (MATH\u2011QED\u2011001\u2026005, MATH\u2011YM\u2011001\u2026003)\n",
        "\n",
        "**One normalization, no knob-turning**: define a single scale `\u039b_0` and fixed, explicit forms that map `{\u03c9_c, m_\u0393, \u03c7}` \u2192 `{K\u2081, K\u2082, K\u2083}`.\n",
        "\n",
        "> **Example (placeholder)**:  \n",
        "> We treat the stiffnesses as\n",
        "> \\[\n",
        "> K_1 = \\Lambda_0 \\left(\f",
        "rac{\\omega_c}{\\omega_0}\r",
        "ight)^{1/3}\\chi^{\\,p_1},\\quad\n",
        "> K_2 = \\Lambda_0 \\left(\f",
        "rac{m_\\Gamma}{m_0}\r",
        "ight)^{1/2}\\chi^{\\,p_2},\\quad\n",
        "> K_3 = \\Lambda_0 \\left(\f",
        "rac{\\omega_c m_\\Gamma}{\\omega_0 m_0}\r",
        "ight)^{1/4}\\chi^{\\,p_3}.\n",
        "> \\]\n",
        "> with a **single** normalization \u039b\u2080 and **fixed exponents** p\u2081,p\u2082,p\u2083 chosen from theory (no fitting here).\n",
        "> \n",
        "> Then define **gauge couplings at \u039b_B** by a proportional map \\( \u0007lpha_i(\\Lambda_B) \\propto 1/K_i^2 \\) up to the **single** normalization.\n",
        "> \n",
        "> Replace the placeholders below with your final forms *once fixed in the paper text*."
      ]
    },
    {
      "cell_type": "code",
      "execution_count": null,
      "metadata": {},
      "outputs": [],
      "source": [
        "# --- SINGLE NORMALIZATION AND FIXED FORMS (PLACEHOLDER THEORY CHOICE) ---\n",
        "Lambda0 = 1.0  # single normalization [arbitrary units], set to 1.0 for a pure no-knob baseline\n",
        "\n",
        "# Reference scales to make the ratios dimensionless\n",
        "omega0 = 1.0e23      # Hz\n",
        "m0_MeV = 17.0        # MeV\n",
        "\n",
        "# Fixed exponents from theory choice (no fitting)\n",
        "p1, p2, p3 = 0.0, 0.0, 0.0\n",
        "\n",
        "def K1(omega_c, mGamma_MeV, chi):\n",
        "    return Lambda0 * (omega_c/omega0)**(1/3) * (chi**p1)\n",
        "\n",
        "def K2(omega_c, mGamma_MeV, chi):\n",
        "    return Lambda0 * (mGamma_MeV/m0_MeV)**(1/2) * (chi**p2)\n",
        "\n",
        "def K3(omega_c, mGamma_MeV, chi):\n",
        "    return Lambda0 * ((omega_c/omega0)*(mGamma_MeV/m0_MeV))**(1/4) * (chi**p3)\n",
        "\n",
        "K1_val, K2_val, K3_val = K1(omega_c, m_Gamma_MeV, chi), K2(omega_c, m_Gamma_MeV, chi), K3(omega_c, m_Gamma_MeV, chi)\n",
        "K1_val, K2_val, K3_val"
      ]
    },
    {
      "cell_type": "markdown",
      "metadata": {},
      "source": [
        "### Map stiffness \u2192 gauge couplings at \u039b_B\n",
        "\n",
        "We define (placeholder mapping; replace with MATH\u2011YM\u2011002 canonical form once fixed):\n",
        "\\[\n",
        "\\alpha_1(\\Lambda_B) = \\frac{c}{K_1^2},\\quad\n",
        "\\alpha_2(\\Lambda_B) = \\frac{c}{K_2^2},\\quad\n",
        "\\alpha_3(\\Lambda_B) = \\frac{c}{K_3^2},\n",
        "\\]\n",
        "with a **single** constant `c` determined by the **single normalization choice** (e.g., fix one observable once, then never touch `c` again)."
      ]
    },
    {
      "cell_type": "code",
      "execution_count": null,
      "metadata": {},
      "outputs": [],
      "source": [
        "# Fix c by one reference normalization: we choose to match \u03b1_em(MZ) after running (deterministic closure).\n",
        "# This block determines c ONCE by requiring the pipeline to reproduce alpha_em(MZ) target (no tuning elsewhere).\n",
        "\n",
        "# 1-loop beta coefficients for SM (dg/dln\u03bc = (b/16\u03c0^2) g^3)\n",
        "# For \u03b1^{-1}: d(\u03b1^{-1})/dln\u03bc = - b/(2\u03c0)\n",
        "b1 = 41/6    # U(1)_Y (GUT-normalized)\n",
        "b2 = -19/6   # SU(2)_L\n",
        "b3 = -7      # SU(3)_c\n",
        "\n",
        "def alpha_inv_run_1loop(alpha_inv_mu0, b, mu, mu0):\n",
        "    return alpha_inv_mu0 - (b/(2*pi)) * np.log(mu/mu0)\n",
        "\n",
        "def run_to_MZ(alpha1_LB, alpha2_LB, alpha3_LB, Lambda_B_GeV, MZ_GeV):\n",
        "    a1_inv = 1.0/alpha1_LB\n",
        "    a2_inv = 1.0/alpha2_LB\n",
        "    a3_inv = 1.0/alpha3_LB\n",
        "    a1_inv_MZ = alpha_inv_run_1loop(a1_inv, b1, MZ_GeV, Lambda_B_GeV)\n",
        "    a2_inv_MZ = alpha_inv_run_1loop(a2_inv, b2, MZ_GeV, Lambda_B_GeV)\n",
        "    a3_inv_MZ = alpha_inv_run_1loop(a3_inv, b3, MZ_GeV, Lambda_B_GeV)\n",
        "    return 1.0/a1_inv_MZ, 1.0/a2_inv_MZ, 1.0/a3_inv_MZ\n",
        "\n",
        "def electroweak_from_hyper_isospin(alpha1, alpha2):\n",
        "    # GUT normalization: \u03b11 = (5/3) \u03b1_Y\n",
        "    alpha_Y = (3/5) * alpha1\n",
        "    # \u03b1_em = \u03b12 * \u03b1_Y / (\u03b12 + \u03b1_Y)\n",
        "    alpha_em = (alpha2*alpha_Y) / (alpha2 + alpha_Y)\n",
        "    sin2_thetaW = alpha_Y / (alpha2 + alpha_Y)\n",
        "    return alpha_em, sin2_thetaW\n",
        "\n",
        "# Determine c by matching \u03b1_em(MZ) to PDG target (single normalization)\n",
        "def determine_c(K1_val, K2_val, K3_val):\n",
        "    # \u03b1_i(\u039b_B) = c / K_i^2  => \u03b11, \u03b12, \u03b13 are proportional to c\n",
        "    # After running to MZ, \u03b1_em(MZ) must equal PDG target.\n",
        "    # Solve for c using a simple monotonic 1D search.\n",
        "    target_alpha_em = 1.0 / targets[\"alpha_em_inv_MZ\"]\n",
        "    c_lo, c_hi = 1e-8, 1e+2\n",
        "    for _ in range(80):\n",
        "        c_mid = (c_lo + c_hi)/2.0\n",
        "        a1_LB = c_mid / (K1_val**2)\n",
        "        a2_LB = c_mid / (K2_val**2)\n",
        "        a3_LB = c_mid / (K3_val**2)\n",
        "        a1_MZ, a2_MZ, a3_MZ = run_to_MZ(a1_LB, a2_LB, a3_LB, Lambda_B_GeV, MZ_GeV)\n",
        "        aem, s2w = electroweak_from_hyper_isospin(a1_MZ, a2_MZ)\n",
        "        if aem > target_alpha_em:\n",
        "            c_hi = c_mid\n",
        "        else:\n",
        "            c_lo = c_mid\n",
        "    return (c_lo + c_hi)/2.0\n",
        "\n",
        "c_norm = determine_c(K1_val, K2_val, K3_val)\n",
        "c_norm"
      ]
    },
    {
      "cell_type": "markdown",
      "metadata": {},
      "source": [
        "## Step 2 \u2014 Run RGEs down to M_Z and compare to PDG"
      ]
    },
    {
      "cell_type": "code",
      "execution_count": null,
      "metadata": {},
      "outputs": [],
      "source": [
        "# Compute gauge couplings at \u039b_B\n",
        "alpha1_LB = c_norm / (K1_val**2)\n",
        "alpha2_LB = c_norm / (K2_val**2)\n",
        "alpha3_LB = c_norm / (K3_val**2)\n",
        "\n",
        "# Run to MZ\n",
        "alpha1_MZ, alpha2_MZ, alpha3_MZ = run_to_MZ(alpha1_LB, alpha2_LB, alpha3_LB, Lambda_B_GeV, MZ_GeV)\n",
        "\n",
        "# Derived electroweak\n",
        "alpha_em_MZ, sin2_thetaW_MZ = electroweak_from_hyper_isospin(alpha1_MZ, alpha2_MZ)\n",
        "\n",
        "res_RGE = {\n",
        "    \"alpha_em_inv_MZ (pred)\": 1.0/alpha_em_MZ,\n",
        "    \"sin2_thetaW_MZ (pred)\": sin2_thetaW_MZ,\n",
        "    \"alpha_s_MZ (pred)\": alpha3_MZ,\n",
        "}\n",
        "res_RGE"
      ]
    },
    {
      "cell_type": "code",
      "execution_count": null,
      "metadata": {},
      "outputs": [],
      "source": [
        "# Compare to targets\n",
        "compare = pd.DataFrame({\n",
        "    \"quantity\": [\"alpha_em_inv_MZ\", \"sin2_thetaW_MZ\", \"alpha_s_MZ\"],\n",
        "    \"pred\": [1.0/alpha_em_MZ, sin2_thetaW_MZ, alpha3_MZ],\n",
        "    \"target\": [targets[\"alpha_em_inv_MZ\"], targets[\"sin2_thetaW_MZ\"], targets[\"alpha_s_MZ\"]]\n",
        "})\n",
        "compare[\"delta\"] = compare[\"pred\"] - compare[\"target\"]\n",
        "compare"
      ]
    },
    {
      "cell_type": "markdown",
      "metadata": {},
      "source": [
        "## Step 3 \u2014 Predict lattice observables (MATH\u2011YM\u2011003)\n",
        "\n",
        "We adopt the working relation (user-specified in your module text):\n",
        "\\[\n",
        "\\sigma \\sim \\frac{\\kappa_3}{\\xi_\\Gamma^2},\\qquad a \\sim f(\\alpha_3(M_Z), \\Lambda_{QCD}, ...)\n",
        "\\]\n",
        "Provide explicit definitions for \\(\\kappa_3\\) and \\(\\xi_\\Gamma\\) in terms of \\{\u03c9_c, m_\u0393, \u03c7\\} or the derived K_i, then compute:\n",
        "- **string tension** \\(\\sigma\\) (compare \\(\\sqrt{\\sigma}\\approx 440\\,\\mathrm{MeV}\\)),\n",
        "- **lattice spacing** `a` (compare to FLAG/MILC tables for chosen action)."
      ]
    },
    {
      "cell_type": "code",
      "execution_count": null,
      "metadata": {},
      "outputs": [],
      "source": [
        "# --- PLACEHOLDER MAPPINGS (replace with your canonical MATH-YM-003 definitions) ---\n",
        "# Example proxies:\n",
        "# kappa_3 from stiffness K3; xi_Gamma from (omega_c, m_Gamma, chi) as a coherence length scale.\n",
        "# Units are illustrative; rescale once canonical mapping is finalized.\n",
        "\n",
        "def kappa3_from_K3(K3):  # dimensionless proxy\n",
        "    return K3\n",
        "\n",
        "def xi_Gamma_from_bridge(omega_c, mGamma_MeV, chi):  # in fm (just a stand-in)\n",
        "    # Coherence length ~ inverse of an energy scale; here a toy proxy\n",
        "    # 1 MeV^-1 \u2248 197.3 fm; use m_Gamma to set a scale, modulated by susceptibility.\n",
        "    return (197.3269804 / max(mGamma_MeV, 1e-6)) * (1.0/ max(chi, 1e-6))\n",
        "\n",
        "kappa3 = kappa3_from_K3(K3_val)\n",
        "xi_Gamma_fm = xi_Gamma_from_bridge(omega_c, m_Gamma_MeV, chi)\n",
        "\n",
        "# String tension sigma ~ kappa3 / xi_Gamma^2\n",
        "sigma_MeV2 = kappa3 / ( (197.3269804/xi_Gamma_fm)**2 )  # very rough, illustrative\n",
        "sqrt_sigma_MeV = sqrt(abs(sigma_MeV2)) if sigma_MeV2>0 else float(\"nan\")\n",
        "\n",
        "# Lattice spacing: exemplar relation ~ xi_Gamma scaled by a factor of \u03b1_s\n",
        "a_fm = xi_Gamma_fm * (alpha3_MZ / 0.12)  # scale so that \u03b1_s\u22480.12 sets a\u2248xi_Gamma (toy)\n",
        "\n",
        "{\n",
        "    \"kappa3\": kappa3,\n",
        "    \"xi_Gamma_fm\": xi_Gamma_fm,\n",
        "    \"sqrt_sigma_MeV (pred)\": sqrt_sigma_MeV,\n",
        "    \"a_fm (pred)\": a_fm\n",
        "}"
      ]
    },
    {
      "cell_type": "markdown",
      "metadata": {},
      "source": [
        "> **Decision rule (closure test):** Without retuning the single normalization, do we get\n",
        "> 1) \\(\\alpha(M_Z)\\), \\(\\sin^2\\theta_W(M_Z)\\), \\(\\alpha_s(M_Z)\\) within tolerance?  \n",
        "> 2) \\(\\sqrt{\\sigma}\\approx 440\\,\\mathrm{MeV}\\) and a within FLAG/MILC ranges?  \n",
        "> If **no**, the stiffness dictionary needs revision (exponents, Bridge scale, or canonical mapping)."
      ]
    }
  ],
  "metadata": {
    "kernelspec": {
      "display_name": "Python 3",
      "language": "python",
      "name": "python3"
    },
    "language_info": {
      "name": "python",
      "version": "3.11"
    }
  },
  "nbformat": 4,
  "nbformat_minor": 5
}