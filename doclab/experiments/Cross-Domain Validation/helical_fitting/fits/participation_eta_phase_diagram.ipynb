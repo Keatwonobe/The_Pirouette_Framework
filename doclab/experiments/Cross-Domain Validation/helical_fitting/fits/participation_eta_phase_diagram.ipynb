{
  "cells": [
    {
      "cell_type": "markdown",
      "metadata": {},
      "source": [
        "# Participation Constant (\u03b7) Phase Diagram (2025-10-28T03:50:08)\n",
        "\n",
        "Construct a 2D phase space over (V_\u0393, K_\u03c4). For each point, compute a **participation constant** \u03b7 from a toy **PRG \u03b2\u2011flow** inspired by MATH\u2011028:\n",
        "- Blue (\u03b7 > 0): observers stabilize (coherence rescue).\n",
        "- Red (\u03b7 < 0): observers destabilize (adversarial resonance).\n",
        "- White (|\u03b7| \u2248 0): decoherence drift.\n",
        "\n",
        "> Replace the toy flow with your canonical \u03b2\u2011equations once finalized. The plotting harness will work unchanged."
      ]
    },
    {
      "cell_type": "code",
      "execution_count": null,
      "metadata": {},
      "outputs": [],
      "source": [
        "import numpy as np\n",
        "import matplotlib.pyplot as plt\n",
        "\n",
        "# Grid\n",
        "N = 300\n",
        "V = np.linspace(0.0, 1.0, N)   # normalized V_\u0393\n",
        "K = np.linspace(0.0, 1.0, N)   # normalized K_\u03c4\n",
        "VV, KK = np.meshgrid(V, K, indexing=\"xy\")\n",
        "\n",
        "# Toy PRG-inspired beta flow:\n",
        "# beta ~ (K - V) - \u03b3*(K+V-1)*(K - V), with \u03b3 as participation response.\n",
        "gamma = 0.8\n",
        "beta = (KK - VV) - gamma*(KK + VV - 1.0)*(KK - VV)\n",
        "\n",
        "# Define \u03b7 as \u2202beta/\u2202K - \u2202beta/\u2202V (a signed stability proxy)\n",
        "dK = K[1]-K[0]; dV = V[1]-V[0]\n",
        "beta_K = np.gradient(beta, dK, axis=1)\n",
        "beta_V = np.gradient(beta, dV, axis=0)\n",
        "eta = beta_K - beta_V\n",
        "\n",
        "# Clip small values to a white band\n",
        "eta_clip = eta.copy()\n",
        "eps = 0.02\n",
        "eta_clip[np.abs(eta_clip) < eps] = 0.0\n",
        "\n",
        "fig, ax = plt.subplots(figsize=(6,5))\n",
        "cax = ax.imshow(eta_clip.T, extent=[V.min(), V.max(), K.min(), K.max()], origin=\"lower\")\n",
        "ax.set_xlabel(\"V_\u0393 (temporal pressure)\")\n",
        "ax.set_ylabel(\"K_\u03c4 (internal resonance)\")\n",
        "ax.set_title(\"Participation constant \u03b7 (toy PRG proxy)\")\n",
        "plt.colorbar(cax, ax=ax, label=\"\u03b7 (signed)\")\n",
        "plt.tight_layout()\n",
        "plt.savefig(\"eta_phase_diagram.png\", dpi=140)\n",
        "plt.close(fig)\n",
        "\n",
        "\"eta_phase_diagram.png\""
      ]
    }
  ],
  "metadata": {
    "kernelspec": {
      "display_name": "Python 3",
      "language": "python",
      "name": "python3"
    },
    "language_info": {
      "name": "python",
      "version": "3.11"
    }
  },
  "nbformat": 4,
  "nbformat_minor": 5
}