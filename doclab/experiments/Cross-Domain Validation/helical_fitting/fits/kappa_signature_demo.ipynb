{
  "cells": [
    {
      "cell_type": "markdown",
      "metadata": {},
      "source": [
        "# \u03ba\u2011Hamiltonian Experimental Signature \u2014 Cross\u2011Domain Fit (2025-10-28T03:50:08)\n",
        "\n",
        "**Goal:** Demonstrate that a **helical (\u03ba\u2011adjusted)** oscillator model beats a standard sinusoid on **AIC/BIC** using *the same* dataset.\n",
        "\n",
        "You can supply **any CSV** with columns `(t, y)` (e.g., PhysioNet HRV, NMR precession, macro cycles)."
      ]
    },
    {
      "cell_type": "code",
      "execution_count": null,
      "metadata": {},
      "outputs": [],
      "source": [
        "import numpy as np, pandas as pd\n",
        "from math import sin, cos, pi, log\n",
        "from dataclasses import dataclass\n",
        "from typing import Tuple\n",
        "from numpy.linalg import lstsq\n",
        "\n",
        "# Load your data: replace 'data.csv' or set df directly\n",
        "try:\n",
        "    df = pd.read_csv(\"data.csv\")\n",
        "except FileNotFoundError:\n",
        "    # create a synthetic demo: sinusoid with slight kappa-phase drag + noise\n",
        "    rng = np.random.default_rng(42)\n",
        "    t = np.linspace(0, 10, 400)\n",
        "    A_true, w_true, phi0_true, kappa_true = 1.0, 2.1, 0.2, 0.08\n",
        "    y = A_true*np.sin(w_true*t + phi0_true + kappa_true*t) + 0.15*rng.normal(size=t.size)\n",
        "    df = pd.DataFrame({\"t\": t, \"y\": y})\n",
        "\n",
        "df.head()"
      ]
    },
    {
      "cell_type": "markdown",
      "metadata": {},
      "source": [
        "## Models\n",
        "\n",
        "- **Standard sine**: \\( y(t) = A\\sin(\\omega t + \\phi_0) + C \\)\n",
        "- **Helical sine**: \\( y(t) = A\\sin(\\omega t + \\phi_0 + \\kappa t) + C \\)\n",
        "\n",
        "We fit by nonlinear least squares (simple grid + linearization) and compute **AIC/BIC**."
      ]
    },
    {
      "cell_type": "code",
      "execution_count": null,
      "metadata": {},
      "outputs": [],
      "source": [
        "from itertools import product\n",
        "\n",
        "def fit_sine(t, y):\n",
        "    # grid over omega, phi0; solve A,C linearly\n",
        "    w_grid = np.linspace(0.5, 4.0, 60)\n",
        "    phi_grid = np.linspace(-pi, pi, 60)\n",
        "    best = None\n",
        "    for w, phi0 in product(w_grid, phi_grid):\n",
        "        X = np.column_stack([np.sin(w*t + phi0), np.ones_like(t)])\n",
        "        coeff, *_ = lstsq(X, y, rcond=None)\n",
        "        A, C = coeff\n",
        "        yhat = X @ coeff\n",
        "        rss = np.sum((y - yhat)**2)\n",
        "        k = 3  # A, C, (w, phi0 counted as 2) -> total 4, but two were grid SLOW; use 4 for AIC/BIC fairness\n",
        "        k = 4\n",
        "        n = len(y)\n",
        "        aic = n*np.log(rss/n) + 2*k\n",
        "        bic = n*np.log(rss/n) + k*np.log(n)\n",
        "        cand = (aic, bic, rss, A, w, phi0, C)\n",
        "        if best is None or aic < best[0]:\n",
        "            best = cand\n",
        "    return best\n",
        "\n",
        "def fit_helical(t, y):\n",
        "    # grid over w, phi0, kappa; solve A,C linearly\n",
        "    w_grid = np.linspace(0.5, 4.0, 40)\n",
        "    phi_grid = np.linspace(-pi, pi, 40)\n",
        "    kappa_grid = np.linspace(-0.3, 0.3, 31)\n",
        "    best = None\n",
        "    for w, phi0, kappa in product(w_grid, phi_grid, kappa_grid):\n",
        "        phase = w*t + phi0 + kappa*t\n",
        "        X = np.column_stack([np.sin(phase), np.ones_like(t)])\n",
        "        coeff, *_ = lstsq(X, y, rcond=None)\n",
        "        A, C = coeff\n",
        "        yhat = X @ coeff\n",
        "        rss = np.sum((y - yhat)**2)\n",
        "        k = 5  # A, C, w, phi0, kappa\n",
        "        n = len(y)\n",
        "        aic = n*np.log(rss/n) + 2*k\n",
        "        bic = n*np.log(rss/n) + k*np.log(n)\n",
        "        cand = (aic, bic, rss, A, w, phi0, kappa, C)\n",
        "        if best is None or aic < best[0]:\n",
        "            best = cand\n",
        "    return best\n",
        "\n",
        "t = df[\"t\"].values\n",
        "y = df[\"y\"].values\n",
        "\n",
        "best_sine = fit_sine(t, y)         # (aic, bic, rss, A, w, phi0, C)\n",
        "best_helix = fit_helical(t, y)     # (aic, bic, rss, A, w, phi0, kappa, C)\n",
        "\n",
        "best_sine, best_helix"
      ]
    },
    {
      "cell_type": "code",
      "execution_count": null,
      "metadata": {},
      "outputs": [],
      "source": [
        "# Report comparison\n",
        "def report_models(best_sine, best_helix):\n",
        "    aic_s, bic_s, rss_s, A_s, w_s, phi0_s, C_s = best_sine\n",
        "    aic_h, bic_h, rss_h, A_h, w_h, phi0_h, kappa_h, C_h = best_helix\n",
        "    return pd.DataFrame([\n",
        "        {\"model\":\"sine\", \"AIC\":aic_s, \"BIC\":bic_s, \"RSS\":rss_s, \"A\":A_s, \"w\":w_s, \"phi0\":phi0_s, \"kappa\":\"-\",\"C\":C_s},\n",
        "        {\"model\":\"helical\", \"AIC\":aic_h, \"BIC\":bic_h, \"RSS\":rss_h, \"A\":A_h, \"w\":w_h, \"phi0\":phi0_h, \"kappa\":kappa_h,\"C\":C_h},\n",
        "    ])\n",
        "\n",
        "comparison = report_models(best_sine, best_helix)\n",
        "comparison"
      ]
    }
  ],
  "metadata": {
    "kernelspec": {
      "display_name": "Python 3",
      "language": "python",
      "name": "python3"
    },
    "language_info": {
      "name": "python",
      "version": "3.11"
    }
  },
  "nbformat": 4,
  "nbformat_minor": 5
}