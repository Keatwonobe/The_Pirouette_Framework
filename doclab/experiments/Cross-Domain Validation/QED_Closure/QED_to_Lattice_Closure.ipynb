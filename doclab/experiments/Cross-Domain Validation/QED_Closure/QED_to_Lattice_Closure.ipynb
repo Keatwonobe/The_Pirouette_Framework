{
  "cells": [
    {
      "cell_type": "markdown",
      "metadata": {},
      "source": [
        "# QED-to-Lattice Closure Loop — Phase II Deliverable (2025-10-28T03:50:08)\n",
        "\n",
        "Objective: One deterministic pipeline (one normalization, no knob-turning) that:\n",
        "1. Takes **Bridge** outputs { ω_c, m_Γ, χ }.\n",
        "2. Computes stiffnesses **K₁, K₂, K₃** (U(1), SU(2), SU(3)).\n",
        "3. Runs 1‑loop (and optionally 2‑loop) RGEs down to **M_Z** to get **α(M_Z)**, **sin²θ_W(M_Z)**, **α_s(M_Z)**.\n",
        "4. Predicts **lattice spacing** `a` and **string tension** `σ` via **MATH‑YM‑003** mapping.\n",
        "5. Compares to **PDG** (couplings) and **FLAG/MILC** (a, σ), without retuning.\n",
        "\n",
        "> This notebook is a scaffold with explicit computational steps. You can lock the mapping (one normalization) and press **Run All**."
      ]
    },
    {
      "cell_type": "code",
      "execution_count": 1,
      "metadata": {},
      "outputs": [
        {
          "data": {
            "text/plain": [
              "{'alpha_em_inv_MZ': 127.955, 'sin2_thetaW_MZ': 0.23122, 'alpha_s_MZ': 0.1179}"
            ]
          },
          "execution_count": 1,
          "metadata": {},
          "output_type": "execute_result"
        }
      ],
      "source": [
        "# Imports\n",
        "import numpy as np\n",
        "import pandas as pd\n",
        "from math import log, pi, sqrt\n",
        "\n",
        "# Constants (can be adjusted if you want a different input scale or reference values)\n",
        "MZ_GeV = 91.1876  # Z boson mass (GeV)\n",
        "\n",
        "# PDG-like targets at MZ (reference values for comparison)\n",
        "PDG_alpha_em_inv = 127.955  # alpha_em^-1(MZ)\n",
        "PDG_sin2_thetaW = 0.23122   # sin^2 theta_W(MZ)\n",
        "PDG_alpha_s = 0.1179        # alpha_s(MZ)\n",
        "\n",
        "targets = {\n",
        "    \"alpha_em_inv_MZ\": PDG_alpha_em_inv,\n",
        "    \"sin2_thetaW_MZ\": PDG_sin2_thetaW,\n",
        "    \"alpha_s_MZ\": PDG_alpha_s,\n",
        "}\n",
        "\n",
        "targets"
      ]
    },
    {
      "cell_type": "markdown",
      "metadata": {},
      "source": [
        "## Step 0 — Inputs from the Bridge\n",
        "\n",
        "> Provide **ω_c [Hz]**, **m_Γ [MeV]**, **χ [dimensionless susceptibility]**.\n",
        "> Choose a **Bridge scale** Λ_B (GeV) at which the stiffness dictionary is defined."
      ]
    },
    {
      "cell_type": "code",
      "execution_count": 2,
      "metadata": {},
      "outputs": [
        {
          "data": {
            "text/plain": [
              "(1e+23, 17.0, 0.85, 1000.0)"
            ]
          },
          "execution_count": 2,
          "metadata": {},
          "output_type": "execute_result"
        }
      ],
      "source": [
        "# --- USER INPUTS (Bridge) ---\n",
        "omega_c = 1.0e23    # Hz\n",
        "m_Gamma_MeV = 17.0  # MeV\n",
        "chi = 0.85          # unitless\n",
        "\n",
        "# Bridge normalization scale (GeV) — where K_i are defined via the dictionary\n",
        "Lambda_B_GeV = 1000.0  # 1 TeV default; adjust if your Bridge prefers a different Λ_B\n",
        "\n",
        "omega_c, m_Gamma_MeV, chi, Lambda_B_GeV"
      ]
    },
    {
      "cell_type": "markdown",
      "metadata": {},
      "source": [
        "## Step 1 — Stiffness dictionary (MATH‑QED‑001…005, MATH‑YM‑001…003)\n",
        "\n",
        "**One normalization, no knob-turning**: define a single scale `Λ_0` and fixed, explicit forms that map `{ω_c, m_Γ, χ}` → `{K₁, K₂, K₃}`.\n",
        "\n",
        "> **Example (placeholder)**:  \n",
        "> We treat the stiffnesses as\n",
        "> \\[\n",
        "> K_1 = \\Lambda_0 \\left(\f\n",
        "rac{\\omega_c}{\\omega_0}\n",
        "ight)^{1/3}\\chi^{\\,p_1},\\quad\n",
        "> K_2 = \\Lambda_0 \\left(\f\n",
        "rac{m_\\Gamma}{m_0}\n",
        "ight)^{1/2}\\chi^{\\,p_2},\\quad\n",
        "> K_3 = \\Lambda_0 \\left(\f\n",
        "rac{\\omega_c m_\\Gamma}{\\omega_0 m_0}\n",
        "ight)^{1/4}\\chi^{\\,p_3}.\n",
        "> \\]\n",
        "> with a **single** normalization Λ₀ and **fixed exponents** p₁,p₂,p₃ chosen from theory (no fitting here).\n",
        "> \n",
        "> Then define **gauge couplings at Λ_B** by a proportional map \\( \u0007lpha_i(\\Lambda_B) \\propto 1/K_i^2 \\) up to the **single** normalization.\n",
        "> \n",
        "> Replace the placeholders below with your final forms *once fixed in the paper text*."
      ]
    },
    {
      "cell_type": "code",
      "execution_count": 3,
      "metadata": {},
      "outputs": [
        {
          "data": {
            "text/plain": [
              "(1.0, 1.0, 1.0)"
            ]
          },
          "execution_count": 3,
          "metadata": {},
          "output_type": "execute_result"
        }
      ],
      "source": [
        "# --- SINGLE NORMALIZATION AND FIXED FORMS (PLACEHOLDER THEORY CHOICE) ---\n",
        "Lambda0 = 1.0  # single normalization [arbitrary units], set to 1.0 for a pure no-knob baseline\n",
        "\n",
        "# Reference scales to make the ratios dimensionless\n",
        "omega0 = 1.0e23      # Hz\n",
        "m0_MeV = 17.0        # MeV\n",
        "\n",
        "# Fixed exponents from theory choice (no fitting)\n",
        "p1, p2, p3 = 0.0, 0.0, 0.0\n",
        "\n",
        "def K1(omega_c, mGamma_MeV, chi):\n",
        "    return Lambda0 * (omega_c/omega0)**(1/3) * (chi**p1)\n",
        "\n",
        "def K2(omega_c, mGamma_MeV, chi):\n",
        "    return Lambda0 * (mGamma_MeV/m0_MeV)**(1/2) * (chi**p2)\n",
        "\n",
        "def K3(omega_c, mGamma_MeV, chi):\n",
        "    return Lambda0 * ((omega_c/omega0)*(mGamma_MeV/m0_MeV))**(1/4) * (chi**p3)\n",
        "\n",
        "K1_val, K2_val, K3_val = K1(omega_c, m_Gamma_MeV, chi), K2(omega_c, m_Gamma_MeV, chi), K3(omega_c, m_Gamma_MeV, chi)\n",
        "K1_val, K2_val, K3_val"
      ]
    },
    {
      "cell_type": "markdown",
      "metadata": {},
      "source": [
        "### Map stiffness → gauge couplings at Λ_B\n",
        "\n",
        "We define (placeholder mapping; replace with MATH‑YM‑002 canonical form once fixed):\n",
        "\\[\n",
        "\\alpha_1(\\Lambda_B) = \\frac{c}{K_1^2},\\quad\n",
        "\\alpha_2(\\Lambda_B) = \\frac{c}{K_2^2},\\quad\n",
        "\\alpha_3(\\Lambda_B) = \\frac{c}{K_3^2},\n",
        "\\]\n",
        "with a **single** constant `c` determined by the **single normalization choice** (e.g., fix one observable once, then never touch `c` again)."
      ]
    },
    {
      "cell_type": "code",
      "execution_count": 4,
      "metadata": {},
      "outputs": [
        {
          "data": {
            "text/plain": [
              "0.021363909422278192"
            ]
          },
          "execution_count": 4,
          "metadata": {},
          "output_type": "execute_result"
        }
      ],
      "source": [
        "# Fix c by one reference normalization: we choose to match α_em(MZ) after running (deterministic closure).\n",
        "# This block determines c ONCE by requiring the pipeline to reproduce alpha_em(MZ) target (no tuning elsewhere).\n",
        "\n",
        "# 1-loop beta coefficients for SM (dg/dlnμ = (b/16π^2) g^3)\n",
        "# For α^{-1}: d(α^{-1})/dlnμ = - b/(2π)\n",
        "b1 = 41/6    # U(1)_Y (GUT-normalized)\n",
        "b2 = -19/6   # SU(2)_L\n",
        "b3 = -7      # SU(3)_c\n",
        "\n",
        "def alpha_inv_run_1loop(alpha_inv_mu0, b, mu, mu0):\n",
        "    return alpha_inv_mu0 - (b/(2*pi)) * np.log(mu/mu0)\n",
        "\n",
        "def run_to_MZ(alpha1_LB, alpha2_LB, alpha3_LB, Lambda_B_GeV, MZ_GeV):\n",
        "    a1_inv = 1.0/alpha1_LB\n",
        "    a2_inv = 1.0/alpha2_LB\n",
        "    a3_inv = 1.0/alpha3_LB\n",
        "    a1_inv_MZ = alpha_inv_run_1loop(a1_inv, b1, MZ_GeV, Lambda_B_GeV)\n",
        "    a2_inv_MZ = alpha_inv_run_1loop(a2_inv, b2, MZ_GeV, Lambda_B_GeV)\n",
        "    a3_inv_MZ = alpha_inv_run_1loop(a3_inv, b3, MZ_GeV, Lambda_B_GeV)\n",
        "    return 1.0/a1_inv_MZ, 1.0/a2_inv_MZ, 1.0/a3_inv_MZ\n",
        "\n",
        "def electroweak_from_hyper_isospin(alpha1, alpha2):\n",
        "    # GUT normalization: α1 = (5/3) α_Y\n",
        "    alpha_Y = (3/5) * alpha1\n",
        "    # α_em = α2 * α_Y / (α2 + α_Y)\n",
        "    alpha_em = (alpha2*alpha_Y) / (alpha2 + alpha_Y)\n",
        "    sin2_thetaW = alpha_Y / (alpha2 + alpha_Y)\n",
        "    return alpha_em, sin2_thetaW\n",
        "\n",
        "# Determine c by matching α_em(MZ) to PDG target (single normalization)\n",
        "def determine_c(K1_val, K2_val, K3_val):\n",
        "    # α_i(Λ_B) = c / K_i^2  => α1, α2, α3 are proportional to c\n",
        "    # After running to MZ, α_em(MZ) must equal PDG target.\n",
        "    # Solve for c using a simple monotonic 1D search.\n",
        "    target_alpha_em = 1.0 / targets[\"alpha_em_inv_MZ\"]\n",
        "    c_lo, c_hi = 1e-8, 1e+2\n",
        "    for _ in range(80):\n",
        "        c_mid = (c_lo + c_hi)/2.0\n",
        "        a1_LB = c_mid / (K1_val**2)\n",
        "        a2_LB = c_mid / (K2_val**2)\n",
        "        a3_LB = c_mid / (K3_val**2)\n",
        "        a1_MZ, a2_MZ, a3_MZ = run_to_MZ(a1_LB, a2_LB, a3_LB, Lambda_B_GeV, MZ_GeV)\n",
        "        aem, s2w = electroweak_from_hyper_isospin(a1_MZ, a2_MZ)\n",
        "        if aem > target_alpha_em:\n",
        "            c_hi = c_mid\n",
        "        else:\n",
        "            c_lo = c_mid\n",
        "    return (c_lo + c_hi)/2.0\n",
        "\n",
        "c_norm = determine_c(K1_val, K2_val, K3_val)\n",
        "c_norm"
      ]
    },
    {
      "cell_type": "markdown",
      "metadata": {},
      "source": [
        "## Step 2 — Run RGEs down to M_Z and compare to PDG"
      ]
    },
    {
      "cell_type": "code",
      "execution_count": 5,
      "metadata": {},
      "outputs": [
        {
          "data": {
            "text/plain": [
              "{'alpha_em_inv_MZ (pred)': np.float64(127.95499999999996),\n",
              " 'sin2_thetaW_MZ (pred)': np.float64(0.35638261283445133),\n",
              " 'alpha_s_MZ (pred)': np.float64(0.0226552588387174)}"
            ]
          },
          "execution_count": 5,
          "metadata": {},
          "output_type": "execute_result"
        }
      ],
      "source": [
        "# Compute gauge couplings at Λ_B\n",
        "alpha1_LB = c_norm / (K1_val**2)\n",
        "alpha2_LB = c_norm / (K2_val**2)\n",
        "alpha3_LB = c_norm / (K3_val**2)\n",
        "\n",
        "# Run to MZ\n",
        "alpha1_MZ, alpha2_MZ, alpha3_MZ = run_to_MZ(alpha1_LB, alpha2_LB, alpha3_LB, Lambda_B_GeV, MZ_GeV)\n",
        "\n",
        "# Derived electroweak\n",
        "alpha_em_MZ, sin2_thetaW_MZ = electroweak_from_hyper_isospin(alpha1_MZ, alpha2_MZ)\n",
        "\n",
        "res_RGE = {\n",
        "    \"alpha_em_inv_MZ (pred)\": 1.0/alpha_em_MZ,\n",
        "    \"sin2_thetaW_MZ (pred)\": sin2_thetaW_MZ,\n",
        "    \"alpha_s_MZ (pred)\": alpha3_MZ,\n",
        "}\n",
        "res_RGE"
      ]
    },
    {
      "cell_type": "code",
      "execution_count": 6,
      "metadata": {},
      "outputs": [
        {
          "data": {
            "text/html": [
              "<div>\n",
              "<style scoped>\n",
              "    .dataframe tbody tr th:only-of-type {\n",
              "        vertical-align: middle;\n",
              "    }\n",
              "\n",
              "    .dataframe tbody tr th {\n",
              "        vertical-align: top;\n",
              "    }\n",
              "\n",
              "    .dataframe thead th {\n",
              "        text-align: right;\n",
              "    }\n",
              "</style>\n",
              "<table border=\"1\" class=\"dataframe\">\n",
              "  <thead>\n",
              "    <tr style=\"text-align: right;\">\n",
              "      <th></th>\n",
              "      <th>quantity</th>\n",
              "      <th>pred</th>\n",
              "      <th>target</th>\n",
              "      <th>delta</th>\n",
              "    </tr>\n",
              "  </thead>\n",
              "  <tbody>\n",
              "    <tr>\n",
              "      <th>0</th>\n",
              "      <td>alpha_em_inv_MZ</td>\n",
              "      <td>127.955000</td>\n",
              "      <td>127.95500</td>\n",
              "      <td>-4.263256e-14</td>\n",
              "    </tr>\n",
              "    <tr>\n",
              "      <th>1</th>\n",
              "      <td>sin2_thetaW_MZ</td>\n",
              "      <td>0.356383</td>\n",
              "      <td>0.23122</td>\n",
              "      <td>1.251626e-01</td>\n",
              "    </tr>\n",
              "    <tr>\n",
              "      <th>2</th>\n",
              "      <td>alpha_s_MZ</td>\n",
              "      <td>0.022655</td>\n",
              "      <td>0.11790</td>\n",
              "      <td>-9.524474e-02</td>\n",
              "    </tr>\n",
              "  </tbody>\n",
              "</table>\n",
              "</div>"
            ],
            "text/plain": [
              "          quantity        pred     target         delta\n",
              "0  alpha_em_inv_MZ  127.955000  127.95500 -4.263256e-14\n",
              "1   sin2_thetaW_MZ    0.356383    0.23122  1.251626e-01\n",
              "2       alpha_s_MZ    0.022655    0.11790 -9.524474e-02"
            ]
          },
          "execution_count": 6,
          "metadata": {},
          "output_type": "execute_result"
        }
      ],
      "source": [
        "# Compare to targets\n",
        "compare = pd.DataFrame({\n",
        "    \"quantity\": [\"alpha_em_inv_MZ\", \"sin2_thetaW_MZ\", \"alpha_s_MZ\"],\n",
        "    \"pred\": [1.0/alpha_em_MZ, sin2_thetaW_MZ, alpha3_MZ],\n",
        "    \"target\": [targets[\"alpha_em_inv_MZ\"], targets[\"sin2_thetaW_MZ\"], targets[\"alpha_s_MZ\"]]\n",
        "})\n",
        "compare[\"delta\"] = compare[\"pred\"] - compare[\"target\"]\n",
        "compare"
      ]
    },
    {
      "cell_type": "markdown",
      "metadata": {},
      "source": [
        "## Step 3 — Predict lattice observables (MATH‑YM‑003)\n",
        "\n",
        "We adopt the working relation (user-specified in your module text):\n",
        "\\[\n",
        "\\sigma \\sim \\frac{\\kappa_3}{\\xi_\\Gamma^2},\\qquad a \\sim f(\\alpha_3(M_Z), \\Lambda_{QCD}, ...)\n",
        "\\]\n",
        "Provide explicit definitions for \\(\\kappa_3\\) and \\(\\xi_\\Gamma\\) in terms of \\{ω_c, m_Γ, χ\\} or the derived K_i, then compute:\n",
        "- **string tension** \\(\\sigma\\) (compare \\(\\sqrt{\\sigma}\\approx 440\\,\\mathrm{MeV}\\)),\n",
        "- **lattice spacing** `a` (compare to FLAG/MILC tables for chosen action)."
      ]
    },
    {
      "cell_type": "code",
      "execution_count": 7,
      "id": "ac1b08d3",
      "metadata": {},
      "outputs": [
        {
          "name": "stdout",
          "output_type": "stream",
          "text": [
            "Option C inputs loaded successfully.\n"
          ]
        }
      ],
      "source": [
        "# === Step 3.1: Inputs from the Solver Run (from qed_option_c_report.json) ===\n",
        "\n",
        "# These are the direct outputs from your plateau binding simulation\n",
        "phi_star = 0.15\n",
        "Delta_phi_eff = 1.44\n",
        "chi = 1.0\n",
        "\n",
        "# These are the resulting lattice-unit observables from that same run\n",
        "sqrt_sigma_lattice = 207.57157524029304\n",
        "r0_lattice = 0.0061883389205843724\n",
        "a_lattice = 0.001167611117091391\n",
        "\n",
        "# This is the crucial curvature of H(φ) at φ*, needed for an accurate κ₃\n",
        "# As per the report, this value reproduces the observed sqrt_sigma_lattice\n",
        "curvature_H = 0.2366782407407408\n",
        "\n",
        "print(\"Option C inputs loaded successfully.\")"
      ]
    },
    {
      "cell_type": "code",
      "execution_count": 8,
      "metadata": {},
      "outputs": [
        {
          "data": {
            "text/plain": [
              "{'kappa3': 1.0,\n",
              " 'xi_Gamma_fm': 11.607469435294117,\n",
              " 'sqrt_sigma_MeV (pred)': 0.058823529411764705,\n",
              " 'a_fm (pred)': np.float64(2.191418537659076)}"
            ]
          },
          "execution_count": 8,
          "metadata": {},
          "output_type": "execute_result"
        }
      ],
      "source": [
        "# --- PLACEHOLDER MAPPINGS (replace with your canonical MATH-YM-003 definitions) ---\n",
        "# Example proxies:\n",
        "# kappa_3 from stiffness K3; xi_Gamma from (omega_c, m_Gamma, chi) as a coherence length scale.\n",
        "# Units are illustrative; rescale once canonical mapping is finalized.\n",
        "\n",
        "def kappa3_from_K3(K3):  # dimensionless proxy\n",
        "    return K3\n",
        "\n",
        "def xi_Gamma_from_bridge(omega_c, mGamma_MeV, chi):  # in fm (just a stand-in)\n",
        "    # Coherence length ~ inverse of an energy scale; here a toy proxy\n",
        "    # 1 MeV^-1 ≈ 197.3 fm; use m_Gamma to set a scale, modulated by susceptibility.\n",
        "    return (197.3269804 / max(mGamma_MeV, 1e-6)) * (1.0/ max(chi, 1e-6))\n",
        "\n",
        "kappa3 = kappa3_from_K3(K3_val)\n",
        "xi_Gamma_fm = xi_Gamma_from_bridge(omega_c, m_Gamma_MeV, chi)\n",
        "\n",
        "# String tension sigma ~ kappa3 / xi_Gamma^2\n",
        "sigma_MeV2 = kappa3 / ( (197.3269804/xi_Gamma_fm)**2 )  # very rough, illustrative\n",
        "sqrt_sigma_MeV = sqrt(abs(sigma_MeV2)) if sigma_MeV2>0 else float(\"nan\")\n",
        "\n",
        "# Lattice spacing: exemplar relation ~ xi_Gamma scaled by a factor of α_s\n",
        "a_fm = xi_Gamma_fm * (alpha3_MZ / 0.12)  # scale so that α_s≈0.12 sets a≈xi_Gamma (toy)\n",
        "\n",
        "{\n",
        "    \"kappa3\": kappa3,\n",
        "    \"xi_Gamma_fm\": xi_Gamma_fm,\n",
        "    \"sqrt_sigma_MeV (pred)\": sqrt_sigma_MeV,\n",
        "    \"a_fm (pred)\": a_fm\n",
        "}"
      ]
    },
    {
      "cell_type": "code",
      "execution_count": 9,
      "id": "264c9fb2",
      "metadata": {},
      "outputs": [
        {
          "name": "stdout",
          "output_type": "stream",
          "text": [
            "Closure pipeline functions defined.\n"
          ]
        }
      ],
      "source": [
        "# === Step 4.1: Drop-in cell for the Option C end-to-end closure pipeline ===\n",
        "from dataclasses import dataclass\n",
        "from typing import Callable, Optional, Tuple, Dict\n",
        "import math\n",
        "\n",
        "HBARC_MEV_FM = 197.3269804\n",
        "\n",
        "@dataclass\n",
        "class ClosureInputs:\n",
        "    # Solver-side\n",
        "    phi_star: float\n",
        "    Delta_phi_eff: float\n",
        "    chi: float = 1.0\n",
        "    # Optional existing lattice outputs for calibration\n",
        "    sqrt_sigma_lattice: Optional[float] = None\n",
        "    r0_lattice: Optional[float] = None\n",
        "    a_lattice: Optional[float] = None\n",
        "    # Physical calibration target\n",
        "    target_sqrt_sigma_MeV: float = 440.0\n",
        "\n",
        "def omega_c_from_phi_star(phi_star: float) -> float:\n",
        "    return 1.0 / phi_star\n",
        "\n",
        "def xi_gamma(omega_c: float, Delta_phi_eff: float, chi: float=1.0) -> float:\n",
        "    return (chi**-0.5) / (omega_c * Delta_phi_eff)\n",
        "\n",
        "def kappa3_from_curvature(omega_c: float, phi_star: float, curvature: float) -> float:\n",
        "    return (omega_c / phi_star) ** 2 * curvature\n",
        "\n",
        "def sigma_from_components(kappa3_val: float, xi_gamma_val: float) -> float:\n",
        "    return kappa3_val / (xi_gamma_val ** 2)\n",
        "\n",
        "def option_c_closure_end2end(inputs: ClosureInputs, curvature: float) -> Dict:\n",
        "    # 1) ω_c and ξ_Γ\n",
        "    omega_c = omega_c_from_phi_star(inputs.phi_star)\n",
        "    xiG = xi_gamma(omega_c, inputs.Delta_phi_eff, inputs.chi)\n",
        "\n",
        "    # 2) κ₃ and σ\n",
        "    k3 = kappa3_from_curvature(omega_c, inputs.phi_star, curvature)\n",
        "    sigma_val = sigma_from_components(k3, xiG)\n",
        "    sqrt_sigma_lat = math.sqrt(sigma_val)\n",
        "\n",
        "    out = {\n",
        "        \"inputs\": vars(inputs),\n",
        "        \"derived_lattice\": {\n",
        "            \"omega_c\": omega_c, \"xi_Gamma\": xiG, \"curvature\": curvature,\n",
        "            \"kappa3\": k3, \"sigma\": sigma_val, \"sqrt_sigma\": sqrt_sigma_lat,\n",
        "        }, \"calibration\": None, \"converted\": None,\n",
        "    }\n",
        "\n",
        "    # 3) Physical calibration (optional)\n",
        "    if inputs.sqrt_sigma_lattice is not None:\n",
        "        mass_scale = inputs.target_sqrt_sigma_MeV / inputs.sqrt_sigma_lattice\n",
        "        length_unit = HBARC_MEV_FM / mass_scale\n",
        "        converted = {}\n",
        "        if inputs.r0_lattice is not None:\n",
        "            converted[\"r0_fm\"] = inputs.r0_lattice * length_unit\n",
        "        if inputs.a_lattice is not None:\n",
        "            converted[\"a_fm\"] = inputs.a_lattice * length_unit\n",
        "        out[\"calibration\"] = {\n",
        "            \"mass_scale_MeV_per_unit\": mass_scale,\n",
        "            \"length_unit_fm\": length_unit\n",
        "        }\n",
        "        out[\"converted\"] = converted\n",
        "    return out\n",
        "\n",
        "print(\"Closure pipeline functions defined.\")"
      ]
    },
    {
      "cell_type": "code",
      "execution_count": 10,
      "id": "a8b8f868",
      "metadata": {},
      "outputs": [
        {
          "name": "stdout",
          "output_type": "stream",
          "text": [
            "{\n",
            "  \"Predicted r0 (fm)\": 0.5760706721099308,\n",
            "  \"Predicted lattice spacing a (fm)\": 0.10869257964338316,\n",
            "  \"Sanity Check: sqrt(sigma) [lattice units]\": 207.57157524029304\n",
            "}\n"
          ]
        }
      ],
      "source": [
        "# === Step 5.1: Run the pipeline and get final predictions ===\n",
        "\n",
        "# Create the input object from our solver data\n",
        "inputs = ClosureInputs(\n",
        "    phi_star=phi_star,\n",
        "    Delta_phi_eff=Delta_phi_eff,\n",
        "    chi=chi,\n",
        "    sqrt_sigma_lattice=sqrt_sigma_lattice,\n",
        "    r0_lattice=r0_lattice,\n",
        "    a_lattice=a_lattice\n",
        ")\n",
        "\n",
        "# Run the end-to-end calculation using the known curvature\n",
        "results = option_c_closure_end2end(inputs, curvature=curvature_H)\n",
        "\n",
        "# Display the final, physically meaningful predictions\n",
        "final_predictions = {\n",
        "    \"Predicted r0 (fm)\": results[\"converted\"][\"r0_fm\"],\n",
        "    \"Predicted lattice spacing a (fm)\": results[\"converted\"][\"a_fm\"],\n",
        "    \"Sanity Check: sqrt(sigma) [lattice units]\": results[\"derived_lattice\"][\"sqrt_sigma\"],\n",
        "}\n",
        "\n",
        "import json\n",
        "print(json.dumps(final_predictions, indent=2))"
      ]
    },
    {
      "cell_type": "code",
      "execution_count": 11,
      "id": "7e6b4310",
      "metadata": {},
      "outputs": [
        {
          "name": "stdout",
          "output_type": "stream",
          "text": [
            "Stiffnesses (K_i) from Casimir Scaling:\n",
            "  K3 (SU(3)): 467.5126 (from Option C)\n",
            "  K2 (SU(2)): 262.9758\n",
            "  K1 (U(1)):  35.0634\n"
          ]
        }
      ],
      "source": [
        "# === Step 6.1: Define Stiffnesses using Casimir Scaling ===\n",
        "\n",
        "# From our Option C run, the stiffness of the SU(3) channel is just kappa3.\n",
        "# We take this value directly from the previous results.\n",
        "K3 = results[\"derived_lattice\"][\"kappa3\"]\n",
        "\n",
        "# Casimir scaling provides a physics-based first guess for the other stiffnesses.\n",
        "# C₂(G) is the quadratic Casimir invariant for the fundamental representation of a group G.\n",
        "C3 = 4/3  # For SU(3)\n",
        "C2 = 3/4  # For SU(2)\n",
        "C1 = 0.0   # For U(1)\n",
        "\n",
        "# To avoid a division by zero for the Abelian U(1) group, we add a small \"floor\".\n",
        "epsilon_floor = 0.1\n",
        "\n",
        "K2 = K3 * (C2 / C3)\n",
        "K1 = K3 * (C1 + epsilon_floor) / C3\n",
        "\n",
        "print(f\"Stiffnesses (K_i) from Casimir Scaling:\")\n",
        "print(f\"  K3 (SU(3)): {K3:.4f} (from Option C)\")\n",
        "print(f\"  K2 (SU(2)): {K2:.4f}\")\n",
        "print(f\"  K1 (U(1)):  {K1:.4f}\")"
      ]
    },
    {
      "cell_type": "code",
      "execution_count": 12,
      "id": "a6f24fd2",
      "metadata": {},
      "outputs": [
        {
          "name": "stdout",
          "output_type": "stream",
          "text": [
            "Determined single normalization constant: c_norm = 100.000000\n",
            "\n",
            "--- Final Predictions (from Casimir-Scaled Stiffnesses) ---\n",
            "      Observable  Prediction  Target (PDG)  Error (%)\n",
            "alpha_em_inv(MZ)  715.187486     127.95500 458.936725\n",
            "     sin²θ_W(MZ)    0.965280       0.23122 317.472345\n",
            "     alpha_s(MZ)    0.000458       0.11790 -99.611465\n"
          ]
        }
      ],
      "source": [
        "# === Step 7.1: Determine the Single Normalization Constant ===\n",
        "\n",
        "# We re-use the *exact same* function from earlier in the notebook.\n",
        "# It finds the one `c_norm` that correctly produces α_em(MZ) after running\n",
        "# the couplings (which are derived from K₁, K₂, K₃) down from the bridge scale.\n",
        "c_norm = determine_c(K1, K2, K3)\n",
        "\n",
        "print(f\"Determined single normalization constant: c_norm = {c_norm:.6f}\")\n",
        "\n",
        "# === Step 7.2: Predict sin²θ_W and α_s with Zero Free Parameters ===\n",
        "\n",
        "# Calculate the high-scale couplings at Λ_B using our stiffnesses and the c_norm\n",
        "alpha1_LB = c_norm / (K1**2)\n",
        "alpha2_LB = c_norm / (K2**2)\n",
        "alpha3_LB = c_norm / (K3**2)\n",
        "\n",
        "# Run the couplings down to the Z boson mass\n",
        "alpha1_MZ, alpha2_MZ, alpha3_MZ = run_to_MZ(alpha1_LB, alpha2_LB, alpha3_LB, Lambda_B_GeV, MZ_GeV)\n",
        "\n",
        "# Calculate the final physical observables\n",
        "alpha_em_MZ_pred, sin2_thetaW_MZ_pred = electroweak_from_hyper_isospin(alpha1_MZ, alpha2_MZ)\n",
        "alpha_s_MZ_pred = alpha3_MZ\n",
        "\n",
        "# --- Final Comparison ---\n",
        "final_df = pd.DataFrame({\n",
        "    \"Observable\": [\"alpha_em_inv(MZ)\", \"sin²θ_W(MZ)\", \"alpha_s(MZ)\"],\n",
        "    \"Prediction\": [1.0/alpha_em_MZ_pred, sin2_thetaW_MZ_pred, alpha_s_MZ_pred],\n",
        "    \"Target (PDG)\": [targets[\"alpha_em_inv_MZ\"], targets[\"sin2_thetaW_MZ\"], targets[\"alpha_s_MZ\"]]\n",
        "})\n",
        "final_df[\"Error (%)\"] = 100 * (final_df[\"Prediction\"] - final_df[\"Target (PDG)\"]) / final_df[\"Target (PDG)\"]\n",
        "\n",
        "print(\"\\n--- Final Predictions (from Casimir-Scaled Stiffnesses) ---\")\n",
        "print(final_df.to_string(index=False))"
      ]
    },
    {
      "cell_type": "code",
      "execution_count": 13,
      "id": "dec4fb69",
      "metadata": {},
      "outputs": [
        {
          "name": "stdout",
          "output_type": "stream",
          "text": [
            "\n",
            "=== Gauge-channel stiffnesses (K_i) ===\n",
            "K1 (U1):  0.075000\n",
            "K2 (SU2): 0.562500\n",
            "K3 (SU3): 1.000000\n",
            "\n",
            "=== Single normalization solved from α_em(MZ) ===\n",
            "c_norm: 0.005372983   (mapping = invK)\n",
            "\n",
            "--- Same-scale PREVIEW (no RGE) ---\n",
            "alpha_em_inv         0.007815  vs  127.955000  Δ%= -99.994\n",
            "sin^2(thetaW)        0.818182\n",
            "alpha3 (≡ α_s?)      0.005373\n"
          ]
        },
        {
          "ename": "TypeError",
          "evalue": "run_to_MZ() missing 2 required positional arguments: 'Lambda_B_GeV' and 'MZ_GeV'",
          "output_type": "error",
          "traceback": [
            "\u001b[31m---------------------------------------------------------------------------\u001b[39m",
            "\u001b[31mTypeError\u001b[39m                                 Traceback (most recent call last)",
            "\u001b[36mCell\u001b[39m\u001b[36m \u001b[39m\u001b[32mIn[13]\u001b[39m\u001b[32m, line 143\u001b[39m\n\u001b[32m    139\u001b[39m     \u001b[38;5;28;01mreturn\u001b[39;00m USE_RGE_IF_AVAILABLE \u001b[38;5;129;01mand\u001b[39;00m \u001b[33m\"\u001b[39m\u001b[33mrun_to_MZ\u001b[39m\u001b[33m\"\u001b[39m \u001b[38;5;129;01min\u001b[39;00m \u001b[38;5;28mglobals\u001b[39m()\n\u001b[32m    141\u001b[39m \u001b[38;5;28;01mif\u001b[39;00m _has_RGE():\n\u001b[32m    142\u001b[39m     \u001b[38;5;66;03m# Expect signature like: run_to_MZ(a1B,a2B,a3B, LambdaB=None) -> (a1_MZ,a2_MZ,a3_MZ)\u001b[39;00m\n\u001b[32m--> \u001b[39m\u001b[32m143\u001b[39m     a1_MZ, a2_MZ, a3_MZ = \u001b[43mrun_to_MZ\u001b[49m\u001b[43m(\u001b[49m\u001b[43ma1B\u001b[49m\u001b[43m,\u001b[49m\u001b[43m \u001b[49m\u001b[43ma2B\u001b[49m\u001b[43m,\u001b[49m\u001b[43m \u001b[49m\u001b[43ma3B\u001b[49m\u001b[43m)\u001b[49m\n\u001b[32m    144\u001b[39m     aY_MZ = (\u001b[32m3.0\u001b[39m/\u001b[32m5.0\u001b[39m)*a1_MZ\n\u001b[32m    145\u001b[39m     alpha_em_inv_MZ = \u001b[32m1.0\u001b[39m / ( \u001b[32m1.0\u001b[39m/a2_MZ + \u001b[32m1.0\u001b[39m/aY_MZ )\n",
            "\u001b[31mTypeError\u001b[39m: run_to_MZ() missing 2 required positional arguments: 'Lambda_B_GeV' and 'MZ_GeV'"
          ]
        }
      ],
      "source": [
        "# === Cell 13 (post 7.1): Gauge-channel stiffnesses and QED/QCD predictions ===\n",
        "# Date: 2025-10-28\n",
        "# This cell closes the perturbative half of the loop by mapping Option-C/stiffness geometry to\n",
        "# gauge couplings with a single normalization, then (optionally) running RGEs to M_Z.\n",
        "\n",
        "import math, numpy as np\n",
        "from dataclasses import dataclass\n",
        "from typing import Optional, Callable, Dict\n",
        "\n",
        "# ---------- Config ----------\n",
        "MODE = \"casimir\"      # \"casimir\" (fast sanity) or \"channels\" (preferred, first-principles)\n",
        "MAPPING = \"invK\"      # \"invK\" -> alpha_i = c * chi_i / K_i   ;  \"invK2\" -> c * chi_i / K_i^2\n",
        "ALPHA_EM_INV_TARGET = 127.955   # PDG at M_Z\n",
        "USE_RGE_IF_AVAILABLE = True     # if a function run_to_MZ(...) exists in globals(), use it\n",
        "\n",
        "# Optional susceptibilities (can be measured via linear response; here default to 1.0)\n",
        "chi1 = globals().get(\"chi1\", 1.0)\n",
        "chi2 = globals().get(\"chi2\", 1.0)\n",
        "chi3 = globals().get(\"chi3\", 1.0)\n",
        "\n",
        "# ---------- Utilities ----------\n",
        "def omega_c_from_phi_star(phi_star: float) -> float:\n",
        "    return 1.0 / phi_star\n",
        "\n",
        "def local_curvature(energy_fn: Callable[[float], float], phi_star: float, h: float=1e-3) -> float:\n",
        "    fph = energy_fn(phi_star + h)\n",
        "    fmh = energy_fn(phi_star - h)\n",
        "    f0  = energy_fn(phi_star)\n",
        "    return (fph - 2.0*f0 + fmh)/(h*h)\n",
        "\n",
        "def stiffness_from(phi_star: float, curvature: float) -> float:\n",
        "    \"\"\"K = (omega_c/phi_star)^2 * curvature\"\"\"\n",
        "    oc = omega_c_from_phi_star(phi_star)\n",
        "    return (oc / phi_star)**2 * curvature\n",
        "\n",
        "def solve_cnorm_for_alpha_em(K1, K2, chi1, chi2, mapping: str, alpha_em_inv_target: float) -> float:\n",
        "    # alpha1 = c*chi1/K1^p ; alpha2 = c*chi2/K2^p ; alphaY = (3/5) * alpha1\n",
        "    p = 1 if mapping == \"invK\" else 2\n",
        "    a_em = 1.0 / alpha_em_inv_target\n",
        "    denom = ( (K2**p)/chi2 + (5.0/3.0)*(K1**p)/chi1 )\n",
        "    # 1/alpha_em = (K2^p)/(c*chi2) + (5/3)*(K1^p)/(c*chi1)  =>  c = a_em * denom\n",
        "    return a_em * denom\n",
        "\n",
        "def couplings_from_K(K1,K2,K3, chi1,chi2,chi3, mapping: str, c_norm: float):\n",
        "    p = 1 if mapping == \"invK\" else 2\n",
        "    a1 = c_norm * chi1 / (K1**p)\n",
        "    a2 = c_norm * chi2 / (K2**p)\n",
        "    a3 = c_norm * chi3 / (K3**p)\n",
        "    return a1,a2,a3\n",
        "\n",
        "def summary_row(name, pred, target=None):\n",
        "    if target is None:\n",
        "        return f\"{name:<16} {pred:>12.6f}\"\n",
        "    err = (pred - target)/target * 100.0\n",
        "    return f\"{name:<16} {pred:>12.6f}  vs  {target:<10.6f}  Δ%={err:+8.3f}\"\n",
        "\n",
        "# ---------- Channel stiffness acquisition ----------\n",
        "@dataclass\n",
        "class ChannelResult:\n",
        "    name: str\n",
        "    phi_star: float\n",
        "    Delta_eff: float\n",
        "    curvature: float\n",
        "    K: float\n",
        "\n",
        "def get_K_via_optionC_SU3_from_globals() -> Optional[float]:\n",
        "    \"\"\"Try to reconstruct K3 from variables defined earlier in the notebook.\"\"\"\n",
        "    phi_star = globals().get(\"phi_star\", None)\n",
        "    curvature = globals().get(\"curvature\", None) or globals().get(\"curvature_SU3\", None)\n",
        "    if phi_star is not None and curvature is not None:\n",
        "        return stiffness_from(phi_star, curvature)\n",
        "    # If the notebook saved κ3 directly under a name:\n",
        "    if \"kappa3\" in globals():\n",
        "        return float(globals()[\"kappa3\"])\n",
        "    return None\n",
        "\n",
        "def get_Ki_by_casimir():\n",
        "    \"\"\"Fast sanity pass: scale K2,K1 off K3 using fundamental Casimirs and an Abelian floor ε.\"\"\"\n",
        "    K3 = get_K_via_optionC_SU3_from_globals()\n",
        "    if K3 is None:\n",
        "        # fallback: allow user to have stored a number as K3_optionC\n",
        "        K3 = float(globals().get(\"K3_optionC\", np.nan))\n",
        "    if not np.isfinite(K3):\n",
        "        raise RuntimeError(\"K3 unavailable. Ensure Option C cell defined phi_star+curvature or set K3_optionC.\")\n",
        "    C3, C2, C1 = 4/3, 3/4, 0.0\n",
        "    eps = 0.10\n",
        "    K2 = K3 * (C2 / C3)          # ~0.5625*K3\n",
        "    K1 = K3 * ((eps) / C3)       # ~0.075*K3\n",
        "    return K1, K2, K3\n",
        "\n",
        "def get_Ki_by_channels():\n",
        "    \"\"\"\n",
        "    Preferred: measure K_i from the same solver with channel-specific kernels.\n",
        "    CONNECT HERE: define `solve_plateau_binding_channel(name, params)` and `H_phi_channel(phi, params)`.\n",
        "    \"\"\"\n",
        "    if \"solve_plateau_binding_channel\" not in globals() or \"H_phi_channel\" not in globals():\n",
        "        raise RuntimeError(\"Define solve_plateau_binding_channel(...) and H_phi_channel(...) in an earlier cell.\")\n",
        "\n",
        "    def run_channel(name, params):\n",
        "        phi_star_i, Delta_eff_i = solve_plateau_binding_channel(name, params)  # <-- CONNECT HERE\n",
        "        curv_i = local_curvature(lambda ph: H_phi_channel(ph, params), phi_star_i, h=1e-3)  # <-- CONNECT HERE\n",
        "        Ki = stiffness_from(phi_star_i, curv_i)\n",
        "        return ChannelResult(name, phi_star_i, Delta_eff_i, curv_i, Ki)\n",
        "\n",
        "    # Example params; adjust to your kernels:\n",
        "    ch_u1  = run_channel(\"U(1)\", {\"type\":\"abelian\",    \"g\":0.40, \"beta\":1.2})\n",
        "    ch_su2 = run_channel(\"SU(2)\", {\"type\":\"nonabelian\",\"Nc\":2,    \"g\":0.80, \"beta\":1.8})\n",
        "    ch_su3 = run_channel(\"SU(3)\", {\"type\":\"nonabelian\",\"Nc\":3,    \"g\":1.00, \"beta\":2.2})\n",
        "\n",
        "    return ch_u1.K, ch_su2.K, ch_su3.K\n",
        "\n",
        "# ---------- Main flow ----------\n",
        "if MODE == \"casimir\":\n",
        "    K1, K2, K3 = get_Ki_by_casimir()\n",
        "else:\n",
        "    K1, K2, K3 = get_Ki_by_channels()\n",
        "\n",
        "# Solve c_norm to match alpha_em at MZ (same-scale preview; RGE may adjust slightly)\n",
        "c_norm = solve_cnorm_for_alpha_em(K1, K2, chi1, chi2, MAPPING, ALPHA_EM_INV_TARGET)\n",
        "a1B, a2B, a3B = couplings_from_K(K1,K2,K3, chi1,chi2,chi3, MAPPING, c_norm)\n",
        "aYB = (3.0/5.0)*a1B\n",
        "sin2_preview = aYB / (aYB + a2B)\n",
        "\n",
        "print(\"\\n=== Gauge-channel stiffnesses (K_i) ===\")\n",
        "print(f\"K1 (U1):  {K1:.6f}\")\n",
        "print(f\"K2 (SU2): {K2:.6f}\")\n",
        "print(f\"K3 (SU3): {K3:.6f}\")\n",
        "\n",
        "print(\"\\n=== Single normalization solved from α_em(MZ) ===\")\n",
        "print(f\"c_norm: {c_norm:.9f}   (mapping = {MAPPING})\")\n",
        "\n",
        "print(\"\\n--- Same-scale PREVIEW (no RGE) ---\")\n",
        "print(summary_row(\"alpha_em_inv\", 1.0/(1.0/(a2B) + 1.0/(aYB)), ALPHA_EM_INV_TARGET))\n",
        "print(summary_row(\"sin^2(thetaW)\", sin2_preview))\n",
        "print(summary_row(\"alpha3 (≡ α_s?)\", a3B))\n",
        "\n",
        "# ---------- Optional: run to M_Z if RGE function exists ----------\n",
        "def _has_RGE():\n",
        "    return USE_RGE_IF_AVAILABLE and \"run_to_MZ\" in globals()\n",
        "\n",
        "if _has_RGE():\n",
        "    # Expect signature like: run_to_MZ(a1B,a2B,a3B, LambdaB=None) -> (a1_MZ,a2_MZ,a3_MZ)\n",
        "    a1_MZ, a2_MZ, a3_MZ = run_to_MZ(a1B, a2B, a3B)\n",
        "    aY_MZ = (3.0/5.0)*a1_MZ\n",
        "    alpha_em_inv_MZ = 1.0 / ( 1.0/a2_MZ + 1.0/aY_MZ )\n",
        "    sin2_MZ = aY_MZ / (aY_MZ + a2_MZ)\n",
        "\n",
        "    print(\"\\n--- After RGE to M_Z ---\")\n",
        "    print(summary_row(\"alpha_em_inv(MZ)\", alpha_em_inv_MZ, ALPHA_EM_INV_TARGET))\n",
        "    print(summary_row(\"sin^2(thetaW)(MZ)\", sin2_MZ, 0.23122))\n",
        "    print(summary_row(\"alpha_s(MZ)\", a3_MZ, 0.11790))\n",
        "else:\n",
        "    print(\"\\n(No RGE run: define run_to_MZ(...) earlier to produce PDG-scale comparisons.)\")\n"
      ]
    },
    {
      "cell_type": "markdown",
      "metadata": {},
      "source": [
        "> **Decision rule (closure test):** Without retuning the single normalization, do we get\n",
        "> 1) \\(\\alpha(M_Z)\\), \\(\\sin^2\\theta_W(M_Z)\\), \\(\\alpha_s(M_Z)\\) within tolerance?  \n",
        "> 2) \\(\\sqrt{\\sigma}\\approx 440\\,\\mathrm{MeV}\\) and a within FLAG/MILC ranges?  \n",
        "> If **no**, the stiffness dictionary needs revision (exponents, Bridge scale, or canonical mapping).\n",
        "\n",
        "PERTURBATIVE_PORTON"
      ]
    }
  ],
  "metadata": {
    "kernelspec": {
      "display_name": "Python 3",
      "language": "python",
      "name": "python3"
    },
    "language_info": {
      "codemirror_mode": {
        "name": "ipython",
        "version": 3
      },
      "file_extension": ".py",
      "mimetype": "text/x-python",
      "name": "python",
      "nbconvert_exporter": "python",
      "pygments_lexer": "ipython3",
      "version": "3.11.6"
    }
  },
  "nbformat": 4,
  "nbformat_minor": 5
}
